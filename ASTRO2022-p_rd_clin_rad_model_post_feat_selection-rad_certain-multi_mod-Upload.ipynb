{
 "cells": [
  {
   "cell_type": "code",
   "execution_count": 1,
   "metadata": {},
   "outputs": [],
   "source": [
    "import os\n",
    "import numpy as np\n",
    "import pandas as pd\n",
    "import sklearn\n",
    "import matplotlib.pyplot as plt\n",
    "import pickle\n",
    "\n",
    "from sklearn.impute import KNNImputer\n",
    "from sklearn.preprocessing import MinMaxScaler\n",
    "from sklearn.model_selection import train_test_split, StratifiedKFold\n",
    "\n",
    "from sklearn.svm import SVC\n",
    "from sklearn.feature_selection import RFE, RFECV\n",
    "from sklearn.pipeline import Pipeline\n",
    "\n",
    "import scipy.stats as st\n",
    "\n",
    "from IPython.display import display, Markdown, Latex"
   ]
  },
  {
   "cell_type": "code",
   "execution_count": 2,
   "metadata": {},
   "outputs": [],
   "source": [
    "# loading holdout\n",
    "cv_num = 3\n",
    "random_state = 200\n",
    "train_val_x_list = pd.read_csv(f\"./data/primary_clinical_radiomic_features/data/splits/cvnum-{cv_num}_seed-{random_state}/train_certain_mrn_rad.csv\").MRN.tolist()\n",
    "holdout_x_list = pd.read_csv(f\"./data/primary_clinical_radiomic_features/data/splits/cvnum-{cv_num}_seed-{random_state}/holdout_uncertain_mrn_rad.csv\").MRN.tolist()\n"
   ]
  },
  {
   "cell_type": "code",
   "execution_count": 3,
   "metadata": {},
   "outputs": [
    {
     "data": {
      "text/plain": [
       "'\\n\\nFeatures selected with primary_rd_feature_radiomic_model.ipynb\\n\\n'"
      ]
     },
     "execution_count": 3,
     "metadata": {},
     "output_type": "execute_result"
    }
   ],
   "source": [
    "'''\n",
    "\n",
    "Features selected with primary_rd_feature_radiomic_model.ipynb\n",
    "\n",
    "'''"
   ]
  },
  {
   "cell_type": "code",
   "execution_count": 4,
   "metadata": {},
   "outputs": [
    {
     "data": {
      "text/markdown": [
       "<h2>Loading data"
      ],
      "text/plain": [
       "<IPython.core.display.Markdown object>"
      ]
     },
     "metadata": {},
     "output_type": "display_data"
    },
    {
     "name": "stdout",
     "output_type": "stream",
     "text": [
      "dataframe shape:  (186, 813)\n"
     ]
    },
    {
     "data": {
      "text/markdown": [
       "<h2>Viewing initial stratified split"
      ],
      "text/plain": [
       "<IPython.core.display.Markdown object>"
      ]
     },
     "metadata": {},
     "output_type": "display_data"
    },
    {
     "data": {
      "text/markdown": [
       "<h2>Repeating CV w/o the holdout set; Multivariable Model"
      ],
      "text/plain": [
       "<IPython.core.display.Markdown object>"
      ]
     },
     "metadata": {},
     "output_type": "display_data"
    },
    {
     "name": "stdout",
     "output_type": "stream",
     "text": [
      "loading features\n",
      "{'ctsim': ['original_firstorder_Range-ctsim', 'hpv_total', 'original_firstorder_Skewness-ctsim', 'gradient_gldm_DependenceEntropy-ctsim', 'Clinical T Stage', 'Disease Site_cat_5', 'pack_year_strat', 'original_glrlm_RunLengthNonUniformityNormalized-ctsim', 'original_shape_Flatness-ctsim', 'gradient_firstorder_MeanAbsoluteDeviation-ctsim'], 'pet_ct': ['original_gldm_GrayLevelNonUniformity-pet_ct', 'hpv_total', 'original_firstorder_90Percentile-pet_ct', 'original_glszm_SmallAreaLowGrayLevelEmphasis-pet_ct', 'gradient_glszm_GrayLevelNonUniformity-pet_ct', 'original_firstorder_Entropy-pet_ct', 'original_gldm_SmallDependenceEmphasis-pet_ct', 'original_firstorder_RobustMeanAbsoluteDeviation-pet_ct', 'original_glcm_DifferenceEntropy-pet_ct', 'gradient_glszm_SmallAreaEmphasis-pet_ct', 'gradient_gldm_DependenceEntropy-pet_ct'], 'pet': ['original_firstorder_Range-pet', 'hpv_total', 'original_firstorder_Skewness-pet', 'gradient_gldm_DependenceEntropy-pet', 'Clinical T Stage', 'Disease Site_cat_5', 'pack_year_strat', 'original_glrlm_RunLengthNonUniformityNormalized-pet', 'original_shape_Flatness-pet'], 'bed': ['hpv_total', 'original_gldm_GrayLevelVariance-bed', 'gradient_firstorder_MeanAbsoluteDeviation-bed', 'gradient_gldm_DependenceEntropy-bed', 'original_glcm_Correlation-bed', 'original_ngtdm_Strength-bed', 'original_glszm_SmallAreaLowGrayLevelEmphasis-bed', 'original_firstorder_Kurtosis-bed', 'original_glcm_Autocorrelation-bed', 'Clinical T Stage', 'original_gldm_DependenceEntropy-bed', 'original_glszm_SmallAreaEmphasis-bed']}\n",
      "train labels:  7\n",
      "test labels:  3\n",
      "MinMaxScaler() , parameters:  {'copy': True, 'feature_range': (0, 1)}\n"
     ]
    },
    {
     "data": {
      "text/markdown": [
       "\n",
       "<h4>Training Data"
      ],
      "text/plain": [
       "<IPython.core.display.Markdown object>"
      ]
     },
     "metadata": {},
     "output_type": "display_data"
    },
    {
     "data": {
      "text/markdown": [
       "\n",
       "<h5>Scaling the training data"
      ],
      "text/plain": [
       "<IPython.core.display.Markdown object>"
      ]
     },
     "metadata": {},
     "output_type": "display_data"
    },
    {
     "name": "stdout",
     "output_type": "stream",
     "text": [
      "Scaling complete\n",
      "\n"
     ]
    },
    {
     "data": {
      "text/markdown": [
       "\n",
       "<h4>Testing Data"
      ],
      "text/plain": [
       "<IPython.core.display.Markdown object>"
      ]
     },
     "metadata": {},
     "output_type": "display_data"
    },
    {
     "data": {
      "text/markdown": [
       "\n",
       "<h5>Scaling the test data"
      ],
      "text/plain": [
       "<IPython.core.display.Markdown object>"
      ]
     },
     "metadata": {},
     "output_type": "display_data"
    },
    {
     "name": "stdout",
     "output_type": "stream",
     "text": [
      "Scaling complete\n",
      "\n"
     ]
    },
    {
     "data": {
      "text/markdown": [
       "\n",
       "<h3>Starting RFECV Process"
      ],
      "text/plain": [
       "<IPython.core.display.Markdown object>"
      ]
     },
     "metadata": {},
     "output_type": "display_data"
    },
    {
     "name": "stdout",
     "output_type": "stream",
     "text": [
      "All scoring keys:\n",
      "dict_keys(['explained_variance', 'r2', 'max_error', 'neg_median_absolute_error', 'neg_mean_absolute_error', 'neg_mean_squared_error', 'neg_mean_squared_log_error', 'neg_root_mean_squared_error', 'neg_mean_poisson_deviance', 'neg_mean_gamma_deviance', 'accuracy', 'roc_auc', 'roc_auc_ovr', 'roc_auc_ovo', 'roc_auc_ovr_weighted', 'roc_auc_ovo_weighted', 'balanced_accuracy', 'average_precision', 'neg_log_loss', 'neg_brier_score', 'adjusted_rand_score', 'homogeneity_score', 'completeness_score', 'v_measure_score', 'mutual_info_score', 'adjusted_mutual_info_score', 'normalized_mutual_info_score', 'fowlkes_mallows_score', 'precision', 'precision_macro', 'precision_micro', 'precision_samples', 'precision_weighted', 'recall', 'recall_macro', 'recall_micro', 'recall_samples', 'recall_weighted', 'f1', 'f1_macro', 'f1_micro', 'f1_samples', 'f1_weighted', 'jaccard', 'jaccard_macro', 'jaccard_micro', 'jaccard_samples', 'jaccard_weighted'])\n",
      "\n",
      "\n",
      "Current scoring function: roc_auc\n",
      "Current estimator: SVC(kernel='linear')\n"
     ]
    },
    {
     "data": {
      "text/markdown": [
       "\n",
       "<h4>Reviewing RFECV outcomes"
      ],
      "text/plain": [
       "<IPython.core.display.Markdown object>"
      ]
     },
     "metadata": {},
     "output_type": "display_data"
    },
    {
     "name": "stdout",
     "output_type": "stream",
     "text": [
      "['original_firstorder_Skewness-ctsim', 'original_glrlm_RunLengthNonUniformityNormalized-ctsim', 'gradient_firstorder_MeanAbsoluteDeviation-ctsim']\n",
      "3\n",
      "\n"
     ]
    },
    {
     "data": {
      "image/png": "[encoded data removed]",
      "text/plain": [
       "<Figure size 432x288 with 1 Axes>"
      ]
     },
     "metadata": {
      "needs_background": "light"
     },
     "output_type": "display_data"
    },
    {
     "data": {
      "text/markdown": [
       "\n",
       "<h4>Evaluating optimal # of features to use per RFECV"
      ],
      "text/plain": [
       "<IPython.core.display.Markdown object>"
      ]
     },
     "metadata": {},
     "output_type": "display_data"
    },
    {
     "name": "stdout",
     "output_type": "stream",
     "text": [
      "new number of train and test samples:  64 32\n",
      "********************************************************************************\n",
      "awaiting all variables to be evaluated...\n",
      "['original_firstorder_Range-ctsim', 'original_firstorder_Skewness-ctsim', 'pack_year_strat']\n",
      "3\n",
      "\n",
      "['original_firstorder_Range-ctsim', 'hpv_total', 'original_firstorder_Skewness-ctsim', 'Disease Site_cat_5', 'original_glrlm_RunLengthNonUniformityNormalized-ctsim', 'original_shape_Flatness-ctsim']\n",
      "6\n",
      "\n",
      "train labels:  7\n",
      "test labels:  3\n",
      "MinMaxScaler() , parameters:  {'copy': True, 'feature_range': (0, 1)}\n"
     ]
    },
    {
     "data": {
      "text/markdown": [
       "\n",
       "<h4>Training Data"
      ],
      "text/plain": [
       "<IPython.core.display.Markdown object>"
      ]
     },
     "metadata": {},
     "output_type": "display_data"
    },
    {
     "data": {
      "text/markdown": [
       "\n",
       "<h5>Scaling the training data"
      ],
      "text/plain": [
       "<IPython.core.display.Markdown object>"
      ]
     },
     "metadata": {},
     "output_type": "display_data"
    },
    {
     "name": "stdout",
     "output_type": "stream",
     "text": [
      "Scaling complete\n",
      "\n"
     ]
    },
    {
     "data": {
      "text/markdown": [
       "\n",
       "<h4>Testing Data"
      ],
      "text/plain": [
       "<IPython.core.display.Markdown object>"
      ]
     },
     "metadata": {},
     "output_type": "display_data"
    },
    {
     "data": {
      "text/markdown": [
       "\n",
       "<h5>Scaling the test data"
      ],
      "text/plain": [
       "<IPython.core.display.Markdown object>"
      ]
     },
     "metadata": {},
     "output_type": "display_data"
    },
    {
     "name": "stdout",
     "output_type": "stream",
     "text": [
      "Scaling complete\n",
      "\n"
     ]
    },
    {
     "data": {
      "text/markdown": [
       "\n",
       "<h3>Starting RFECV Process"
      ],
      "text/plain": [
       "<IPython.core.display.Markdown object>"
      ]
     },
     "metadata": {},
     "output_type": "display_data"
    },
    {
     "name": "stdout",
     "output_type": "stream",
     "text": [
      "All scoring keys:\n",
      "dict_keys(['explained_variance', 'r2', 'max_error', 'neg_median_absolute_error', 'neg_mean_absolute_error', 'neg_mean_squared_error', 'neg_mean_squared_log_error', 'neg_root_mean_squared_error', 'neg_mean_poisson_deviance', 'neg_mean_gamma_deviance', 'accuracy', 'roc_auc', 'roc_auc_ovr', 'roc_auc_ovo', 'roc_auc_ovr_weighted', 'roc_auc_ovo_weighted', 'balanced_accuracy', 'average_precision', 'neg_log_loss', 'neg_brier_score', 'adjusted_rand_score', 'homogeneity_score', 'completeness_score', 'v_measure_score', 'mutual_info_score', 'adjusted_mutual_info_score', 'normalized_mutual_info_score', 'fowlkes_mallows_score', 'precision', 'precision_macro', 'precision_micro', 'precision_samples', 'precision_weighted', 'recall', 'recall_macro', 'recall_micro', 'recall_samples', 'recall_weighted', 'f1', 'f1_macro', 'f1_micro', 'f1_samples', 'f1_weighted', 'jaccard', 'jaccard_macro', 'jaccard_micro', 'jaccard_samples', 'jaccard_weighted'])\n",
      "\n",
      "\n",
      "Current scoring function: roc_auc\n",
      "Current estimator: SVC(kernel='linear')\n"
     ]
    },
    {
     "data": {
      "text/markdown": [
       "\n",
       "<h4>Reviewing RFECV outcomes"
      ],
      "text/plain": [
       "<IPython.core.display.Markdown object>"
      ]
     },
     "metadata": {},
     "output_type": "display_data"
    },
    {
     "name": "stdout",
     "output_type": "stream",
     "text": [
      "['original_firstorder_90Percentile-pet_ct', 'original_glszm_SmallAreaLowGrayLevelEmphasis-pet_ct', 'original_firstorder_Entropy-pet_ct', 'original_firstorder_RobustMeanAbsoluteDeviation-pet_ct', 'gradient_glszm_SmallAreaEmphasis-pet_ct']\n",
      "5\n",
      "\n"
     ]
    },
    {
     "data": {
      "image/png": "[encoded data removed]",
      "text/plain": [
       "<Figure size 432x288 with 1 Axes>"
      ]
     },
     "metadata": {
      "needs_background": "light"
     },
     "output_type": "display_data"
    },
    {
     "data": {
      "text/markdown": [
       "\n",
       "<h4>Evaluating optimal # of features to use per RFECV"
      ],
      "text/plain": [
       "<IPython.core.display.Markdown object>"
      ]
     },
     "metadata": {},
     "output_type": "display_data"
    },
    {
     "name": "stdout",
     "output_type": "stream",
     "text": [
      "new number of train and test samples:  64 32\n",
      "********************************************************************************\n",
      "awaiting all variables to be evaluated...\n",
      "['original_gldm_GrayLevelNonUniformity-pet_ct', 'hpv_total', 'original_firstorder_90Percentile-pet_ct', 'original_glszm_SmallAreaLowGrayLevelEmphasis-pet_ct', 'gradient_glszm_GrayLevelNonUniformity-pet_ct', 'original_firstorder_Entropy-pet_ct', 'original_gldm_SmallDependenceEmphasis-pet_ct', 'original_firstorder_RobustMeanAbsoluteDeviation-pet_ct', 'original_glcm_DifferenceEntropy-pet_ct', 'gradient_glszm_SmallAreaEmphasis-pet_ct', 'gradient_gldm_DependenceEntropy-pet_ct']\n",
      "11\n",
      "\n",
      "['original_gldm_GrayLevelNonUniformity-pet_ct', 'hpv_total', 'original_firstorder_90Percentile-pet_ct', 'original_glszm_SmallAreaLowGrayLevelEmphasis-pet_ct', 'gradient_glszm_GrayLevelNonUniformity-pet_ct', 'original_firstorder_RobustMeanAbsoluteDeviation-pet_ct', 'gradient_glszm_SmallAreaEmphasis-pet_ct']\n",
      "7\n",
      "\n",
      "train labels:  7\n",
      "test labels:  3\n",
      "MinMaxScaler() , parameters:  {'copy': True, 'feature_range': (0, 1)}\n"
     ]
    },
    {
     "data": {
      "text/markdown": [
       "\n",
       "<h4>Training Data"
      ],
      "text/plain": [
       "<IPython.core.display.Markdown object>"
      ]
     },
     "metadata": {},
     "output_type": "display_data"
    },
    {
     "data": {
      "text/markdown": [
       "\n",
       "<h5>Scaling the training data"
      ],
      "text/plain": [
       "<IPython.core.display.Markdown object>"
      ]
     },
     "metadata": {},
     "output_type": "display_data"
    },
    {
     "name": "stdout",
     "output_type": "stream",
     "text": [
      "Scaling complete\n",
      "\n"
     ]
    },
    {
     "data": {
      "text/markdown": [
       "\n",
       "<h4>Testing Data"
      ],
      "text/plain": [
       "<IPython.core.display.Markdown object>"
      ]
     },
     "metadata": {},
     "output_type": "display_data"
    },
    {
     "data": {
      "text/markdown": [
       "\n",
       "<h5>Scaling the test data"
      ],
      "text/plain": [
       "<IPython.core.display.Markdown object>"
      ]
     },
     "metadata": {},
     "output_type": "display_data"
    },
    {
     "name": "stdout",
     "output_type": "stream",
     "text": [
      "Scaling complete\n",
      "\n"
     ]
    },
    {
     "data": {
      "text/markdown": [
       "\n",
       "<h3>Starting RFECV Process"
      ],
      "text/plain": [
       "<IPython.core.display.Markdown object>"
      ]
     },
     "metadata": {},
     "output_type": "display_data"
    },
    {
     "name": "stdout",
     "output_type": "stream",
     "text": [
      "All scoring keys:\n",
      "dict_keys(['explained_variance', 'r2', 'max_error', 'neg_median_absolute_error', 'neg_mean_absolute_error', 'neg_mean_squared_error', 'neg_mean_squared_log_error', 'neg_root_mean_squared_error', 'neg_mean_poisson_deviance', 'neg_mean_gamma_deviance', 'accuracy', 'roc_auc', 'roc_auc_ovr', 'roc_auc_ovo', 'roc_auc_ovr_weighted', 'roc_auc_ovo_weighted', 'balanced_accuracy', 'average_precision', 'neg_log_loss', 'neg_brier_score', 'adjusted_rand_score', 'homogeneity_score', 'completeness_score', 'v_measure_score', 'mutual_info_score', 'adjusted_mutual_info_score', 'normalized_mutual_info_score', 'fowlkes_mallows_score', 'precision', 'precision_macro', 'precision_micro', 'precision_samples', 'precision_weighted', 'recall', 'recall_macro', 'recall_micro', 'recall_samples', 'recall_weighted', 'f1', 'f1_macro', 'f1_micro', 'f1_samples', 'f1_weighted', 'jaccard', 'jaccard_macro', 'jaccard_micro', 'jaccard_samples', 'jaccard_weighted'])\n",
      "\n",
      "\n",
      "Current scoring function: roc_auc\n",
      "Current estimator: SVC(kernel='linear')\n"
     ]
    },
    {
     "data": {
      "text/markdown": [
       "\n",
       "<h4>Reviewing RFECV outcomes"
      ],
      "text/plain": [
       "<IPython.core.display.Markdown object>"
      ]
     },
     "metadata": {},
     "output_type": "display_data"
    },
    {
     "name": "stdout",
     "output_type": "stream",
     "text": [
      "['original_firstorder_Range-pet', 'original_firstorder_Skewness-pet', 'gradient_gldm_DependenceEntropy-pet', 'original_glrlm_RunLengthNonUniformityNormalized-pet']\n",
      "4\n",
      "\n"
     ]
    },
    {
     "data": {
      "image/png": "[encoded data removed]",
      "text/plain": [
       "<Figure size 432x288 with 1 Axes>"
      ]
     },
     "metadata": {
      "needs_background": "light"
     },
     "output_type": "display_data"
    },
    {
     "data": {
      "text/markdown": [
       "\n",
       "<h4>Evaluating optimal # of features to use per RFECV"
      ],
      "text/plain": [
       "<IPython.core.display.Markdown object>"
      ]
     },
     "metadata": {},
     "output_type": "display_data"
    },
    {
     "name": "stdout",
     "output_type": "stream",
     "text": [
      "new number of train and test samples:  64 32\n",
      "********************************************************************************\n",
      "awaiting all variables to be evaluated...\n",
      "['original_firstorder_Range-pet', 'original_firstorder_Skewness-pet', 'pack_year_strat']\n",
      "3\n",
      "\n",
      "['original_firstorder_Range-pet', 'hpv_total', 'original_firstorder_Skewness-pet', 'gradient_gldm_DependenceEntropy-pet', 'Disease Site_cat_5', 'original_glrlm_RunLengthNonUniformityNormalized-pet', 'original_shape_Flatness-pet']\n",
      "7\n",
      "\n",
      "train labels:  7\n",
      "test labels:  3\n",
      "MinMaxScaler() , parameters:  {'copy': True, 'feature_range': (0, 1)}\n"
     ]
    },
    {
     "data": {
      "text/markdown": [
       "\n",
       "<h4>Training Data"
      ],
      "text/plain": [
       "<IPython.core.display.Markdown object>"
      ]
     },
     "metadata": {},
     "output_type": "display_data"
    },
    {
     "data": {
      "text/markdown": [
       "\n",
       "<h5>Scaling the training data"
      ],
      "text/plain": [
       "<IPython.core.display.Markdown object>"
      ]
     },
     "metadata": {},
     "output_type": "display_data"
    },
    {
     "name": "stdout",
     "output_type": "stream",
     "text": [
      "Scaling complete\n",
      "\n"
     ]
    },
    {
     "data": {
      "text/markdown": [
       "\n",
       "<h4>Testing Data"
      ],
      "text/plain": [
       "<IPython.core.display.Markdown object>"
      ]
     },
     "metadata": {},
     "output_type": "display_data"
    },
    {
     "data": {
      "text/markdown": [
       "\n",
       "<h5>Scaling the test data"
      ],
      "text/plain": [
       "<IPython.core.display.Markdown object>"
      ]
     },
     "metadata": {},
     "output_type": "display_data"
    },
    {
     "name": "stdout",
     "output_type": "stream",
     "text": [
      "Scaling complete\n",
      "\n"
     ]
    },
    {
     "data": {
      "text/markdown": [
       "\n",
       "<h3>Starting RFECV Process"
      ],
      "text/plain": [
       "<IPython.core.display.Markdown object>"
      ]
     },
     "metadata": {},
     "output_type": "display_data"
    },
    {
     "name": "stdout",
     "output_type": "stream",
     "text": [
      "All scoring keys:\n",
      "dict_keys(['explained_variance', 'r2', 'max_error', 'neg_median_absolute_error', 'neg_mean_absolute_error', 'neg_mean_squared_error', 'neg_mean_squared_log_error', 'neg_root_mean_squared_error', 'neg_mean_poisson_deviance', 'neg_mean_gamma_deviance', 'accuracy', 'roc_auc', 'roc_auc_ovr', 'roc_auc_ovo', 'roc_auc_ovr_weighted', 'roc_auc_ovo_weighted', 'balanced_accuracy', 'average_precision', 'neg_log_loss', 'neg_brier_score', 'adjusted_rand_score', 'homogeneity_score', 'completeness_score', 'v_measure_score', 'mutual_info_score', 'adjusted_mutual_info_score', 'normalized_mutual_info_score', 'fowlkes_mallows_score', 'precision', 'precision_macro', 'precision_micro', 'precision_samples', 'precision_weighted', 'recall', 'recall_macro', 'recall_micro', 'recall_samples', 'recall_weighted', 'f1', 'f1_macro', 'f1_micro', 'f1_samples', 'f1_weighted', 'jaccard', 'jaccard_macro', 'jaccard_micro', 'jaccard_samples', 'jaccard_weighted'])\n",
      "\n",
      "\n",
      "Current scoring function: roc_auc\n",
      "Current estimator: SVC(kernel='linear')\n"
     ]
    },
    {
     "data": {
      "text/markdown": [
       "\n",
       "<h4>Reviewing RFECV outcomes"
      ],
      "text/plain": [
       "<IPython.core.display.Markdown object>"
      ]
     },
     "metadata": {},
     "output_type": "display_data"
    },
    {
     "name": "stdout",
     "output_type": "stream",
     "text": [
      "['original_gldm_GrayLevelVariance-bed', 'original_ngtdm_Strength-bed', 'original_glszm_SmallAreaLowGrayLevelEmphasis-bed', 'original_glcm_Autocorrelation-bed', 'original_gldm_DependenceEntropy-bed', 'original_glszm_SmallAreaEmphasis-bed']\n",
      "6\n",
      "\n"
     ]
    },
    {
     "data": {
      "image/png": "[encoded data removed]",
      "text/plain": [
       "<Figure size 432x288 with 1 Axes>"
      ]
     },
     "metadata": {
      "needs_background": "light"
     },
     "output_type": "display_data"
    },
    {
     "data": {
      "text/markdown": [
       "\n",
       "<h4>Evaluating optimal # of features to use per RFECV"
      ],
      "text/plain": [
       "<IPython.core.display.Markdown object>"
      ]
     },
     "metadata": {},
     "output_type": "display_data"
    },
    {
     "name": "stdout",
     "output_type": "stream",
     "text": [
      "new number of train and test samples:  64 32\n",
      "********************************************************************************\n",
      "awaiting all variables to be evaluated...\n",
      "['hpv_total', 'original_gldm_GrayLevelVariance-bed', 'gradient_firstorder_MeanAbsoluteDeviation-bed', 'original_glcm_Correlation-bed', 'original_ngtdm_Strength-bed', 'original_glszm_SmallAreaLowGrayLevelEmphasis-bed', 'original_glcm_Autocorrelation-bed', 'Clinical T Stage', 'original_gldm_DependenceEntropy-bed', 'original_glszm_SmallAreaEmphasis-bed']\n",
      "10\n",
      "\n",
      "['hpv_total', 'original_gldm_GrayLevelVariance-bed', 'gradient_firstorder_MeanAbsoluteDeviation-bed', 'original_glcm_Correlation-bed', 'original_ngtdm_Strength-bed', 'original_glcm_Autocorrelation-bed', 'Clinical T Stage', 'original_glszm_SmallAreaEmphasis-bed']\n",
      "8\n",
      "\n",
      "********************************************************************************\n",
      "********************************************************************************\n",
      "done\n"
     ]
    }
   ],
   "source": [
    "display(Markdown('<h2>Loading data'))\n",
    "main_df = pd.read_csv(f\"./data/primary_clinical_radiomic_features/complete_clinical_radiomic_features.csv\")\n",
    "print('dataframe shape: ', np.shape(main_df))\n",
    "\n",
    "# loading holdout\n",
    "cv_num = 3\n",
    "random_state = 200\n",
    "train_val_x_list = pd.read_csv(f\"./data/primary_clinical_radiomic_features/data/splits/cvnum-{cv_num}_seed-{random_state}/train_certain_mrn_rad.csv\").MRN.tolist()\n",
    "holdout_x_list = pd.read_csv(f\"./data/primary_clinical_radiomic_features/data/splits/cvnum-{cv_num}_seed-{random_state}/holdout_uncertain_mrn_rad.csv\").MRN.tolist()\n",
    "\n",
    "display(Markdown('<h2>Viewing initial stratified split'))\n",
    "# print('train_val')\n",
    "# print(train_val_x_list)\n",
    "# print('')\n",
    "# print('hold out')\n",
    "# print(holdout_x_list)\n",
    "\n",
    "# Breaking down data into X and y \n",
    "X = main_df\n",
    "stratify_label = X['Primary_Recurrence']\n",
    "X = X.drop(columns=['Primary_Recurrence'])\n",
    "X_copy = X.copy()\n",
    "y_copy = stratify_label.copy()\n",
    "y_copy = pd.concat([X_copy['MRN'], y_copy], axis=1)\n",
    "col_names = X.columns.tolist()\n",
    "X = np.array(X)\n",
    "y = np.array(stratify_label)\n",
    "\n",
    "\n",
    "display(Markdown('<h2>Repeating CV w/o the holdout set; Multivariable Model'))\n",
    "# loading data\n",
    "X_train = X_copy.loc[X_copy.MRN.isin(train_val_x_list)]\n",
    "X_train_copy = X_train.copy()\n",
    "col_names = X_train.columns.tolist()\n",
    "\n",
    "Y_train = y_copy.loc[y_copy.MRN.isin(train_val_x_list)]\n",
    "Y_train = Y_train.Primary_Recurrence\n",
    "Y_train_copy = Y_train.copy()\n",
    "\n",
    "assert len(X_train) == len(Y_train), 'check size'\n",
    "see_imputing_scaling = False\n",
    "repeat = 200\n",
    "\n",
    "store_dic = {i: {'features': [], 'test_auc': [], 'train_auc': [], 'scaler': [], 'model':[]} for i in range(repeat)}\n",
    "\n",
    "### Split sklearn cross fold validation\n",
    "import random\n",
    "X_train = np.array(X_train)\n",
    "Y_train = np.array(Y_train)\n",
    "\n",
    "print('loading features')\n",
    "complete_feature_dict = f\"./data/primary_clinical_radiomic_features/data/splits/cvnum-{cv_num}_seed-{random_state}/all_modality_features_rad_02212022_v2.json\"\n",
    "\n",
    "with open(complete_feature_dict, 'rb') as handle:\n",
    "    all_modality_features = pickle.load(handle)\n",
    "\n",
    "print(all_modality_features)\n",
    "\n",
    "\n",
    "random_list = np.load(f\"./data/primary_clinical_radiomic_features/data/splits/cvnum-{cv_num}_seed-{random_state}/random_seed_list_02212022_v3.npy\")\n",
    "\n",
    "for img_modality in all_modality_features:\n",
    "#     print(img_modality)\n",
    "    store_dic = {i: {'features': [], 'test_auc': [], 'train_auc': [], 'scaler': [], 'model':[]} for i in range(repeat)}\n",
    "    for ij in range(repeat):\n",
    "        skf = StratifiedKFold(n_splits=cv_num, random_state=random_list[ij], shuffle=True)\n",
    "        for ci, (train_index, test_index) in enumerate(skf.split(X_train, Y_train)):\n",
    "            \n",
    "            prior_selected_features = all_modality_features[img_modality]\n",
    "\n",
    "            x_train, x_test = X_train[train_index], X_train[test_index]\n",
    "            y_train, y_test = Y_train[train_index], Y_train[test_index]\n",
    "\n",
    "            x_train = pd.DataFrame(x_train, columns=col_names)\n",
    "            x_test = pd.DataFrame(x_test, columns=col_names)\n",
    "\n",
    "        #     print(len(x_train))\n",
    "            mrn_train = x_train.MRN.tolist()\n",
    "        #     print(len(x_test))\n",
    "            mrn_test = x_test.MRN.tolist()\n",
    "\n",
    "            if ci == 0 and ij == 0:\n",
    "                print('train labels: ', np.sum(y_train))\n",
    "                print('test labels: ', np.sum(y_test))\n",
    "\n",
    "\n",
    "            ### imputing missing data\n",
    "            #### Set up for data imputing and scaling\n",
    "        #             knn_imputer = KNNImputer(n_neighbors=5)\n",
    "        #             impute_fit = knn_imputer.fit(X=x_train, y=y_train)\n",
    "            scaler = MinMaxScaler(feature_range=(0, 1))\n",
    "            if ci == 0 and ij == 0:\n",
    "        #                 print(knn_imputer, ', parameters: ', knn_imputer.get_params())\n",
    "        #                 print(impute_fit, ', parameters: ', impute_fit.get_params())\n",
    "                print(scaler, ', parameters: ', scaler.get_params())\n",
    "\n",
    "            ### transforming and scaling training and test data\n",
    "            # Train data\n",
    "            if ci == 0 and ij == 0:\n",
    "                display(Markdown('\\n<h4>Training Data'))\n",
    "        #     display(Markdown('\\n<h5>Imputing the missing data'))\n",
    "        #     if see_imputing_scaling:\n",
    "        #         print(f\"data information pre-imputing:\\n{x_train.info()}\")\n",
    "        #     x_train = impute_fit.transform(X=x_train)\n",
    "            x_train = pd.DataFrame(x_train, columns=col_names)\n",
    "\n",
    "        #     if see_imputing_scaling:\n",
    "        #         print(f\"\\ndata information post-imputing:\\n{x_train.info()}\\n\")\n",
    "        #     print('Imputing complete')\n",
    "        #     print('Adjusting imputed values\\n')\n",
    "        #     for r, v in [('Clinical T Stage', 5), ('Clinical N Stage', 4)]:\n",
    "        #         if r in encoding_variables:\n",
    "        #             x_train[r] = x_train[r].map(lambda x: clip_round(x, max_value=v))\n",
    "\n",
    "\n",
    "            # x_train.to_csv(r'C:\\Users\\s185479\\Desktop\\Python_Code\\Projects\\Prostate_SBRT_GU_Toxicity\\check_train.csv')\n",
    "            if ci == 0 and ij == 0:\n",
    "                display(Markdown('\\n<h5>Scaling the training data'))\n",
    "        #     if see_imputing_scaling:\n",
    "        #         print(f\"data range pre-scaling:\\n\")\n",
    "        #         for col in x_train.columns.tolist():\n",
    "        #             print(col, '\\n', x_train[col].describe(), '\\n')\n",
    "            x_train = scaler.fit_transform(x_train)\n",
    "            x_train = pd.DataFrame(x_train, columns=col_names)\n",
    "\n",
    "            if ci == 0 and ij == 0:\n",
    "                if see_imputing_scaling:\n",
    "                    print(f\"\\ndata range post-scaling:\\n\")\n",
    "                    for col in x_train.columns.tolist():\n",
    "                        print(col, '\\n', x_train[col].describe(), '\\n')\n",
    "                print('Scaling complete\\n')\n",
    "\n",
    "        #     # attempt ordinal encoder\n",
    "        #     from sklearn.preprocessing import OrdinalEncoder\n",
    "        #     print('encoding variables')\n",
    "        #     for e in encoding_variables:\n",
    "        #         enc = OrdinalEncoder()\n",
    "        #         x_train[e] = enc.fit_transform(np.array(x_train[e]).reshape(-1,1))\n",
    "        #         x_train[e] = x_train[e].map(lambda x: int(x))\n",
    "        #         x_train[e] = x_train[e].astype('object')\n",
    "\n",
    "            # x_train.to_csv(r'C:\\Users\\s185479\\Desktop\\Python_Code\\Projects\\Prostate_SBRT_GU_Toxicity\\check_train_encoder.csv')\n",
    "            # print(x_train.info())\n",
    "\n",
    "            # Test data\n",
    "            if ci == 0 and ij == 0:\n",
    "                display(Markdown('\\n<h4>Testing Data'))\n",
    "        #         display(Markdown('\\n<h5>Imputing the missing data'))\n",
    "        #         if see_imputing_scaling:\n",
    "        #             print(f\"data information pre-imputing:\\n{x_test.info()}\")\n",
    "        #         x_test = impute_fit.transform(X=x_test)\n",
    "            x_test = pd.DataFrame(x_test, columns=col_names)\n",
    "        #         if see_imputing_scaling:\n",
    "        #             print(f\"\\ndata information post-imputing:\\n{x_test.info()}\\n\")\n",
    "        #         print('Imputing complete')\n",
    "\n",
    "        #         print('Adjusting imputed values\\n')\n",
    "        #         for r, v in [('Clinical T Stage', 5), ('Clinical N Stage', 4)]:\n",
    "        #             if r in encoding_variables:\n",
    "        #                 x_test[r] = x_test[r].map(lambda x: clip_round(x, max_value=v))\n",
    "\n",
    "            if ci == 0 and ij == 0:\n",
    "                display(Markdown('\\n<h5>Scaling the test data'))\n",
    "                if see_imputing_scaling:\n",
    "                    print(f\"data range pre-scaling:\\n\")\n",
    "                    for col in x_test.columns.tolist():\n",
    "                        print(col, '\\n', x_test[col].describe(), '\\n')\n",
    "            x_test = scaler.transform(x_test)\n",
    "            x_test = pd.DataFrame(x_test, columns=col_names)\n",
    "\n",
    "            if ci == 0 and ij == 0:\n",
    "                if see_imputing_scaling:\n",
    "                    print(f\"data range post-scaling:\\n\")\n",
    "                    for col in x_test.columns.tolist():\n",
    "                        print(col, '\\n', x_test[col].describe(), '\\n')\n",
    "                print('Scaling complete\\n')\n",
    "        #         print('Encoding variables')\n",
    "        #         for e in encoding_variables:\n",
    "        #             enc = OrdinalEncoder()\n",
    "        #             x_test[e] = enc.fit_transform(np.array(x_test[e]).reshape(-json_file_dir)\n",
    "        #             x_test[e] = x_test[e].map(lambda x: int(x))\n",
    "        #             x_test[e] = x_test[e].astype('object')\n",
    "            #     x_test.to_csv(r'C:\\Users\\s185479\\Desktop\\Python_Code\\Projects\\Prostate_SBRT_GU_Toxicity\\check_test_encoder.csv')\n",
    "\n",
    "\n",
    "        #             # need to create LN based training and test set\n",
    "        #             x_train.MRN = mrn_train\n",
    "        #             x_test.MRN = mrn_test\n",
    "\n",
    "            x_train = x_train[prior_selected_features]\n",
    "            x_test = x_test[prior_selected_features]\n",
    "\n",
    "            ### rfe cv\n",
    "            if ci == 0 and ij == 0:\n",
    "                display(Markdown('\\n<h3>Starting RFECV Process'))\n",
    "            min_features_to_select = 3\n",
    "            if ci == 0 and ij == 0:\n",
    "                print(f\"All scoring keys:\\n{sklearn.metrics.SCORERS.keys()}\")\n",
    "                print('\\n')\n",
    "            scoring = 'roc_auc'\n",
    "            if ci == 0 and ij == 0:\n",
    "                print(f\"Current scoring function: {scoring}\")\n",
    "\n",
    "            ### Setting the estimator for RFECV\n",
    "            estimator = SVC(kernel='linear')\n",
    "            if ci == 0 and ij == 0:\n",
    "                print(f\"Current estimator: {estimator}\")\n",
    "            rfe = RFECV(estimator=estimator, min_features_to_select=min_features_to_select, cv=sklearn.model_selection.StratifiedKFold(3), scoring=scoring)\n",
    "\n",
    "            x_train_clin_drop = x_train[prior_selected_features]\n",
    "            col_name_clin_drop = x_train_clin_drop.columns.tolist()\n",
    "\n",
    "            rfe = rfe.fit(x_train_clin_drop, y_train)\n",
    "\n",
    "            if ci == 0 and ij == 0:\n",
    "                display(Markdown('\\n<h4>Reviewing RFECV outcomes'))\n",
    "            ### two ways to supposedly obtain the same information\n",
    "            column_name_df = pd.DataFrame(col_name_clin_drop)\n",
    "            selected_features_ = [x for i, x in enumerate(col_name_clin_drop) if rfe.support_[i] == True]\n",
    "\n",
    "            if ij == 0:\n",
    "                print(selected_features_)\n",
    "                # print([y for x, y in list(zip(rfe.ranking_, col_names)) if x == 1])\n",
    "                print(rfe.n_features_)\n",
    "                # print(rfe.cv_results_['mean_test_score'])\n",
    "                print('')\n",
    "\n",
    "            ### fitting and plotting model\n",
    "\n",
    "\n",
    "            ### Plot number of features VS. cross-validation scores\n",
    "            if ci == 0 and ij == 0:\n",
    "                plt.figure()\n",
    "                plt.xlabel(\"Number of features selected\")\n",
    "                plt.ylabel(f\"Cross validation score ({scoring})\")\n",
    "                plt.plot(\n",
    "                    range(min_features_to_select, len(rfe.grid_scores_) + min_features_to_select),\n",
    "                    rfe.grid_scores_,\n",
    "                )\n",
    "\n",
    "                plt.xlim(1, 15)\n",
    "                plt.xticks(range(1, 15))\n",
    "                plt.show()\n",
    "\n",
    "\n",
    "            # reset x_train and x_test\n",
    "            x_train = x_train[selected_features_]\n",
    "            x_test = x_test[selected_features_]\n",
    "\n",
    "            if ci == 0 and ij == 0:\n",
    "                display(Markdown('\\n<h4>Evaluating optimal # of features to use per RFECV'))\n",
    "            from interpret.glassbox import ExplainableBoostingClassifier, DecisionListClassifier, ClassificationTree\n",
    "            ebm = ExplainableBoostingClassifier(validation_size=0.2, early_stopping_rounds=10, early_stopping_tolerance=1e-1, interactions=5)\n",
    "            model = ebm\n",
    "\n",
    "            from sklearn.linear_model import LogisticRegression\n",
    "            from sklearn.svm import SVC\n",
    "\n",
    "    #         model = LogisticRegression()\n",
    "            model = model.fit(x_train, y_train)\n",
    "\n",
    "\n",
    "            if ci == 0 and ij == 0:\n",
    "                print('new number of train and test samples: ', len(x_train), len(x_test))\n",
    "        #                 display(Markdown('\\n<h3>Model used'))\n",
    "                print('*'*80)\n",
    "                print('awaiting all variables to be evaluated...')\n",
    "\n",
    "\n",
    "    #         from sklearn.linear_model import LogisticRegression\n",
    "    #         from sklearn.svm import SVC\n",
    "\n",
    "    #         model = LogisticRegression()\n",
    "\n",
    "    #         x_train = np.array(x_train).reshape(-1, 1)\n",
    "    #         x_test = np.array(x_test).reshape(-1, 1)\n",
    "\n",
    "    #         model = model.fit(x_train, y_train)\n",
    "    #     #     model = SVC(probability=True)\n",
    "    #     #     model = model.fit(x_train, y_train)\n",
    "\n",
    "        #             display(Markdown('\\n<h4>Making predictions with model train on selected features'))\n",
    "            train_pred = model.predict_proba(x_train)\n",
    "\n",
    "        #             train_results = pd.DataFrame()\n",
    "        #             train_results['label'] = y_train\n",
    "        #             train_results['true'] = y_train\n",
    "        #             train_results['pred'] = train_pred[:,1]\n",
    "        #             main_store_pred_dir = os.getcwd()\n",
    "        #             train_cv_name = f\"train_results_cv_{counter}.csv\"\n",
    "        #             train_results.to_csv(os.path.join(main_store_pred_dir, train_cv_name))\n",
    "\n",
    "\n",
    "            test_pred = model.predict_proba(x_test)\n",
    "\n",
    "        #             test_results = pd.DataFrame()\n",
    "        #             test_results['label'] = y_test\n",
    "        #             test_results['true'] = y_test\n",
    "        #             test_results['pred'] = test_pred[:,1]\n",
    "        #             main_store_pred_dir = os.getcwd()\n",
    "        #             test_cv_name = f\"test_results_cv_{counter}.csv\"\n",
    "        #             test_results.to_csv(os.path.join(main_store_pred_dir, test_cv_name))\n",
    "\n",
    "\n",
    "            store_dic[ij]['test_auc'].append(sklearn.metrics.roc_auc_score(y_true=y_test, y_score=test_pred[:, 1]))\n",
    "            store_dic[ij]['train_auc'].append(sklearn.metrics.roc_auc_score(y_true=y_train, y_score=train_pred[:, 1]))\n",
    "            store_dic[ij]['features'].append(selected_features_)\n",
    "            store_dic[ij]['scaler'].append(scaler)\n",
    "            store_dic[ij]['model'].append(model)\n",
    "\n",
    "        \n",
    "    store_dict_filename = f\"./data/primary_clinical_radiomic_features/data/splits/cvnum-{cv_num}_seed-{random_state}/initial_feature_rad_json/feature_test_{img_modality}.json\"\n",
    "    sorted_store_dic = {k: v for k, v in sorted(store_dic.items(), key=lambda item: np.median(item[1]['test_auc']), reverse=True)}\n",
    "    \n",
    "    with open(store_dict_filename, 'wb') as handle:\n",
    "        pickle.dump(sorted_store_dic, handle)\n",
    "\n",
    "print('*'*80)\n",
    "print('*'*80)\n",
    "print('done')\n",
    "\n"
   ]
  },
  {
   "cell_type": "code",
   "execution_count": 5,
   "metadata": {},
   "outputs": [
    {
     "data": {
      "text/markdown": [
       "<h2>Loading data"
      ],
      "text/plain": [
       "<IPython.core.display.Markdown object>"
      ]
     },
     "metadata": {},
     "output_type": "display_data"
    },
    {
     "name": "stdout",
     "output_type": "stream",
     "text": [
      "dataframe shape:  (186, 813)\n"
     ]
    },
    {
     "data": {
      "text/markdown": [
       "<h2>Viewing initial stratified split"
      ],
      "text/plain": [
       "<IPython.core.display.Markdown object>"
      ]
     },
     "metadata": {},
     "output_type": "display_data"
    },
    {
     "name": "stdout",
     "output_type": "stream",
     "text": [
      "train labels:  10 total  96\n",
      "test labels:  9 total  86\n",
      "MinMaxScaler() , parameters:  {'copy': True, 'feature_range': (0, 1)}\n"
     ]
    },
    {
     "data": {
      "text/markdown": [
       "\n",
       "<h4>Training Data"
      ],
      "text/plain": [
       "<IPython.core.display.Markdown object>"
      ]
     },
     "metadata": {},
     "output_type": "display_data"
    },
    {
     "data": {
      "text/markdown": [
       "\n",
       "<h5>Scaling the training data"
      ],
      "text/plain": [
       "<IPython.core.display.Markdown object>"
      ]
     },
     "metadata": {},
     "output_type": "display_data"
    },
    {
     "name": "stdout",
     "output_type": "stream",
     "text": [
      "Scaling complete\n",
      "\n"
     ]
    },
    {
     "data": {
      "text/markdown": [
       "\n",
       "<h4>Testing Data"
      ],
      "text/plain": [
       "<IPython.core.display.Markdown object>"
      ]
     },
     "metadata": {},
     "output_type": "display_data"
    },
    {
     "data": {
      "text/markdown": [
       "\n",
       "<h5>Scaling the test data"
      ],
      "text/plain": [
       "<IPython.core.display.Markdown object>"
      ]
     },
     "metadata": {},
     "output_type": "display_data"
    },
    {
     "name": "stdout",
     "output_type": "stream",
     "text": [
      "Scaling complete\n",
      "\n"
     ]
    },
    {
     "data": {
      "text/markdown": [
       "\n",
       "<h4>model"
      ],
      "text/plain": [
       "<IPython.core.display.Markdown object>"
      ]
     },
     "metadata": {},
     "output_type": "display_data"
    },
    {
     "name": "stdout",
     "output_type": "stream",
     "text": [
      "new number of train and test samples:  96 86\n",
      "********************************************************************************\n",
      "awaiting all variables to be evaluated...\n"
     ]
    },
    {
     "data": {
      "text/markdown": [
       "\n",
       "<h4>model"
      ],
      "text/plain": [
       "<IPython.core.display.Markdown object>"
      ]
     },
     "metadata": {},
     "output_type": "display_data"
    },
    {
     "name": "stdout",
     "output_type": "stream",
     "text": [
      "new number of train and test samples:  96 86\n",
      "********************************************************************************\n",
      "awaiting all variables to be evaluated...\n"
     ]
    },
    {
     "data": {
      "text/markdown": [
       "\n",
       "<h4>model"
      ],
      "text/plain": [
       "<IPython.core.display.Markdown object>"
      ]
     },
     "metadata": {},
     "output_type": "display_data"
    },
    {
     "name": "stdout",
     "output_type": "stream",
     "text": [
      "new number of train and test samples:  96 86\n",
      "********************************************************************************\n",
      "awaiting all variables to be evaluated...\n"
     ]
    },
    {
     "data": {
      "text/markdown": [
       "\n",
       "<h4>model"
      ],
      "text/plain": [
       "<IPython.core.display.Markdown object>"
      ]
     },
     "metadata": {},
     "output_type": "display_data"
    },
    {
     "name": "stdout",
     "output_type": "stream",
     "text": [
      "new number of train and test samples:  96 86\n",
      "********************************************************************************\n",
      "awaiting all variables to be evaluated...\n",
      "********************************************************************************\n",
      "********************************************************************************\n",
      "done\n"
     ]
    }
   ],
   "source": [
    "from sklearn.metrics import roc_auc_score, roc_curve, auc, f1_score, fbeta_score\n",
    "from sklearn.metrics import confusion_matrix\n",
    "\n",
    "display(Markdown('<h2>Loading data'))\n",
    "main_df = pd.read_csv(f\"./data/primary_clinical_radiomic_features/complete_clinical_radiomic_features.csv\")\n",
    "print('dataframe shape: ', np.shape(main_df))\n",
    "\n",
    "# loading holdout\n",
    "cv_num = 3\n",
    "random_state = 200\n",
    "train_val_x_list = pd.read_csv(f\"./data/primary_clinical_radiomic_features/data/splits/cvnum-{cv_num}_seed-{random_state}/train_certain_mrn_rad.csv\").MRN.tolist()\n",
    "holdout_x_list = pd.read_csv(f\"./data/primary_clinical_radiomic_features/data/splits/cvnum-{cv_num}_seed-{random_state}/holdout_uncertain_mrn_rad.csv\").MRN.tolist()\n",
    "\n",
    "display(Markdown('<h2>Viewing initial stratified split'))\n",
    "# print('train_val')\n",
    "# print(train_val_x_list)\n",
    "# print('')\n",
    "# print('hold out')\n",
    "# print(holdout_x_list)\n",
    "\n",
    "# Breaking down data into X and y \n",
    "X = main_df\n",
    "stratify_label = X['Primary_Recurrence']\n",
    "X = X.drop(columns=['Primary_Recurrence'])\n",
    "\n",
    "# X data\n",
    "X_copy = X.copy()\n",
    "y_copy = stratify_label.copy()\n",
    "y_copy = pd.concat([X_copy['MRN'], y_copy], axis=1)\n",
    "col_names = X.columns.tolist()\n",
    "\n",
    "\n",
    "X_train = X_copy.loc[X_copy.MRN.isin(train_val_x_list)]\n",
    "X_test = X_copy.loc[X_copy.MRN.isin(holdout_x_list)]\n",
    "\n",
    "\n",
    "col_names = X_train.columns.tolist()\n",
    "\n",
    "# Y data\n",
    "Y_train = y_copy.loc[y_copy.MRN.isin(train_val_x_list)]\n",
    "Y_train = Y_train.Primary_Recurrence\n",
    "\n",
    "Y_test = y_copy.loc[y_copy.MRN.isin(holdout_x_list)]\n",
    "Y_test = Y_test.Primary_Recurrence\n",
    "\n",
    "\n",
    "# Retraining on full trainset and assessing performance on hold out set\n",
    "\n",
    "# original train_val split\n",
    "x_train = X_train.copy()\n",
    "y_train = np.array(Y_train.copy())\n",
    "\n",
    "x_test = X_test.copy()\n",
    "y_test = np.array(Y_test.copy())\n",
    "\n",
    "# print(y_test)\n",
    "\n",
    "mrn_train = x_train.MRN.tolist()\n",
    "mrn_test = x_test.MRN.tolist()\n",
    "\n",
    "\n",
    "print('train labels: ', np.sum(y_train), 'total ', len(y_train))\n",
    "print('test labels: ', np.sum(y_test), 'total ', len(y_test))\n",
    "\n",
    "\n",
    "#Scaling\n",
    "scaler = MinMaxScaler(feature_range=(0, 1))\n",
    "print(scaler, ', parameters: ', scaler.get_params())\n",
    "\n",
    "### transforming and scaling training and test data\n",
    "# Train data\n",
    "\n",
    "display(Markdown('\\n<h4>Training Data'))\n",
    "x_train = pd.DataFrame(x_train, columns=col_names)\n",
    "\n",
    "# x_train.to_csv(r'C:\\Users\\s185479\\Desktop\\Python_Code\\Projects\\Prostate_SBRT_GU_Toxicity\\check_train.csv')\n",
    "\n",
    "display(Markdown('\\n<h5>Scaling the training data'))\n",
    "x_train = scaler.fit_transform(x_train)\n",
    "x_train = pd.DataFrame(x_train, columns=col_names)\n",
    "\n",
    "\n",
    "if see_imputing_scaling:\n",
    "    print(f\"\\ndata range post-scaling:\\n\")\n",
    "    for col in x_train.columns.tolist():\n",
    "        print(col, '\\n', x_train[col].describe(), '\\n')\n",
    "print('Scaling complete\\n')\n",
    "\n",
    "\n",
    "# Test data\n",
    "display(Markdown('\\n<h4>Testing Data'))\n",
    "x_test = pd.DataFrame(x_test, columns=col_names)\n",
    "\n",
    "display(Markdown('\\n<h5>Scaling the test data'))\n",
    "if see_imputing_scaling:\n",
    "    print(f\"data range pre-scaling:\\n\")\n",
    "    for col in x_test.columns.tolist():\n",
    "        print(col, '\\n', x_test[col].describe(), '\\n')\n",
    "        \n",
    "x_test = scaler.transform(x_test)\n",
    "x_test = pd.DataFrame(x_test, columns=col_names)\n",
    "\n",
    "\n",
    "if see_imputing_scaling:\n",
    "    print(f\"data range post-scaling:\\n\")\n",
    "    for col in x_test.columns.tolist():\n",
    "        print(col, '\\n', x_test[col].describe(), '\\n')\n",
    "print('Scaling complete\\n')\n",
    "\n",
    "\n",
    "### fitting and plotting model\n",
    "x_train_copy = x_train.copy()\n",
    "\n",
    "x_test_copy = x_test.copy()\n",
    "\n",
    "#cycling through selected features\n",
    "\n",
    "# store_dic_final = {i: {'features': [], 'test_auc': [], 'train_auc': [], 'train_threshold': [], 'test_pred': [], 'test_pred_prob': [],\n",
    "#                        'majority_test_pred': [], 'majority_test_auc': [], 'majority_test_specificity': [], 'majority_test_sensitivity': [],\n",
    "#                        'weighted_test_auc': [], 'weighted_test_specificity': [], 'weighted_test_sensitivity': [],\n",
    "#                        'true': [], 'scaler': [], 'model':[]} for i in range(len(sorted_store_dic))}\n",
    "\n",
    "# obtain only the top \n",
    "store_dic_final = {0: {'features': [], 'test_auc': [], 'train_auc': [], 'train_threshold': [], 'test_pred': [], 'test_pred_prob': [],\n",
    "                       'majority_test_pred': [], 'majority_test_auc': [], 'majority_test_specificity': [], 'majority_test_sensitivity': [],\n",
    "                       'weighted_test_auc': [], 'weighted_test_specificity': [], 'weighted_test_sensitivity': [],\n",
    "                       'true': [], 'scaler': [], 'model':[]}}\n",
    "\n",
    "\n",
    "def Find_Optimal_Cutoff(target, predicted):\n",
    "    fpr, tpr, threshold = roc_curve(target, predicted)\n",
    "    i = np.arange(len(tpr)) \n",
    "    roc = pd.DataFrame({'tf' : pd.Series(tpr-(1-fpr), index=i), 'threshold' : pd.Series(threshold, index=i)})\n",
    "    roc_t = roc.iloc[(roc.tf-0).abs().argsort()[:1]]\n",
    "\n",
    "    return list(roc_t['threshold']) \n",
    "\n",
    "def dr_friendly_measures(y_true, y_pred):\n",
    "    \"\"\"\n",
    "    :param y_true: ground truth\n",
    "    :param y_pred: prediction\n",
    "    :return: specificity, sensitivity, ppv, npv\n",
    "    \"\"\"\n",
    "    tn, fp, fn, tp = confusion_matrix(y_true, y_pred).ravel()\n",
    "\n",
    "#     print('')\n",
    "#     print('Summary of true values')\n",
    "    true_values = pd.DataFrame(y_true).rename(columns={0: 'true'})\n",
    "#     print(true_values.groupby('true')['true'].count())\n",
    "\n",
    "#     print('')\n",
    "#     print('Patients with outcome (1)')\n",
    "#     print(f\"True positives: {tp}\")\n",
    "#     print(f\"False negatives: {fn}\")\n",
    "#     print('')\n",
    "#     print('Patients without outcome (0)')\n",
    "#     print(f\"False positives: {fp}\")\n",
    "#     print(f\"True negatives: {tn}\")\n",
    "#     print('')\n",
    "\n",
    "#     print(confusion_matrix(y_true, y_pred))\n",
    "    specificity = tn / (tn + fp)\n",
    "    sensitivity = tp / (tp + fn)\n",
    "    ppv = tp / (tp + fp)\n",
    "    npv = tn / (tn + fn)\n",
    "\n",
    "    name1 = ['specificity', 'sensitivity', 'ppv', 'npv']\n",
    "    name2 = [specificity, sensitivity, ppv, npv]\n",
    "\n",
    "#     for i in range(len(name1)):\n",
    "#         print(f\"{name1[i]}: {np.round(name2[i], 3)}\")\n",
    "\n",
    "    return specificity, sensitivity, ppv, npv\n",
    "\n",
    "json_file_dir = f\"./data/primary_clinical_radiomic_features/data/splits/cvnum-{cv_num}_seed-{random_state}/initial_feature_rad_json/\"\n",
    "\n",
    "# single_mod_update = {i: {'features': [], 'test_auc': [], 'train_auc': [], 'train_threshold': [], 'test_pred': [], 'test_pred_prob': [], 'train_pred_prob': [],\n",
    "#                        'majority_test_pred': [], 'majority_test_auc': [], 'majority_test_specificity': [], 'majority_test_sensitivity': [],\n",
    "#                        'weighted_test_auc': [], 'weighted_test_specificity': [], 'weighted_test_sensitivity': [],\n",
    "#                        'true': [], 'scaler': [], 'model':[]} for i in range(1)}\n",
    "\n",
    "store_dic_final_all = {i: {} for i in ['ctsim', 'pet', 'pet_ct', 'bed']}\n",
    "\n",
    "\n",
    "import pprint\n",
    "# pprint.pprint(store_dic_final_all)\n",
    "\n",
    "for img_modality in ['pet', 'pet_ct', 'ctsim', 'bed']:\n",
    "    sorted_store_dic_dir = os.path.join(json_file_dir, f\"feature_test_{img_modality}.json\")\n",
    "    store_dic_final_all = {img_modality: {0: {'features': [], 'test_auc': [], 'train_auc': [], 'train_threshold': [], \n",
    "                                              'test_pred': [], 'test_pred_prob': [], 'train_pred_prob': [],\n",
    "                       'majority_test_pred': [], 'majority_test_auc': [], 'majority_test_specificity': [], 'majority_test_sensitivity': [],\n",
    "                       'weighted_test_auc': [], 'weighted_test_specificity': [], 'weighted_test_sensitivity': [],\n",
    "                       'true': [], 'scaler': [], 'model':[]}}}\n",
    "#     print('initial')\n",
    "#     print(store_dic_final_all)\n",
    "    \n",
    "    with open(sorted_store_dic_dir, 'rb') as handle:\n",
    "        sorted_store_dic = pickle.load(handle)\n",
    "#         print(sorted_store_dic_dir)\n",
    "#         print(sorted_store_dic)\n",
    "    \n",
    "\n",
    "    for ci, idx_ in enumerate(sorted_store_dic):\n",
    "#         print('what is idx_: ', idx_)\n",
    "#         print(ci)\n",
    "\n",
    "        if ci == 0:\n",
    "#             print('')\n",
    "#             pprint.pprint(store_dic_final_all)\n",
    "\n",
    "            for ij, selected_features_ in enumerate(sorted_store_dic[idx_]['features']):\n",
    "#                 print(selected_features_)\n",
    "\n",
    "                # reset x_train and x_test\n",
    "                x_train = x_train_copy[selected_features_]\n",
    "                x_test = x_test_copy[selected_features_]\n",
    "\n",
    "                if ci == 0 and ij == 0:\n",
    "                    display(Markdown('\\n<h4>model'))\n",
    "                from interpret.glassbox import ExplainableBoostingClassifier, DecisionListClassifier, ClassificationTree\n",
    "                ebm = ExplainableBoostingClassifier(validation_size=0.2, early_stopping_rounds=10, early_stopping_tolerance=1e-1, interactions=5)\n",
    "                model = ebm\n",
    "\n",
    "                from sklearn.linear_model import LogisticRegression\n",
    "                from sklearn.svm import SVC\n",
    "\n",
    "                #         model = LogisticRegression()\n",
    "                model = model.fit(x_train, y_train)\n",
    "\n",
    "                if ci == 0 and ij == 0:\n",
    "                    print('new number of train and test samples: ', len(x_train), len(x_test))\n",
    "                #                 display(Markdown('\\n<h3>Model used'))\n",
    "                    print('*'*80)\n",
    "                    print('awaiting all variables to be evaluated...')\n",
    "\n",
    "                train_pred = model.predict_proba(x_train)\n",
    "                test_pred = model.predict_proba(x_test)\n",
    "\n",
    "\n",
    "                optim_train_thresh = Find_Optimal_Cutoff(target=y_train, predicted=train_pred[:,1])[0]\n",
    "\n",
    "#                 print(sklearn.metrics.roc_auc_score(y_true=y_test, y_score=test_pred[:, 1]))\n",
    "#                 print(img_modality)\n",
    "#                 pprint.pprint(store_dic_final_all)\n",
    "#                 print(store_dic_final_all[img_modality])\n",
    "#                 print('&'*40)\n",
    "#                 print(img_modality)\n",
    "#                 print(store_dic_final_all[img_modality][ci])\n",
    "\n",
    "                store_dic_final_all[img_modality][ci]['test_auc'].append(sklearn.metrics.roc_auc_score(y_true=y_test, y_score=test_pred[:, 1]))\n",
    "                store_dic_final_all[img_modality][ci]['train_auc'].append(sklearn.metrics.roc_auc_score(y_true=y_train, y_score=train_pred[:, 1]))\n",
    "                store_dic_final_all[img_modality][ci]['features'].append(selected_features_)\n",
    "                store_dic_final_all[img_modality][ci]['scaler'].append(scaler)\n",
    "                store_dic_final_all[img_modality][ci]['model'].append(model)\n",
    "                store_dic_final_all[img_modality][ci]['train_threshold'].append(optim_train_thresh)\n",
    "                \n",
    "\n",
    "                store_dic_final_all[img_modality][ci]['test_pred_prob'].append(test_pred[:, 1])\n",
    "                store_dic_final_all[img_modality][ci]['train_pred_prob'].append(train_pred[:, 1])\n",
    "                store_dic_final_all[img_modality][ci]['test_pred'].append([1 if x >= optim_train_thresh else 0 for x in test_pred[:, 1]])\n",
    "\n",
    "            # obtain class prediction weights\n",
    "            store_dic_final_all[img_modality][ci]['class_weight_output'] = np.divide(np.array(store_dic_final_all[img_modality][ci]['train_auc']).reshape(3,1), \n",
    "                                                                   np.sum(np.array(store_dic_final_all[img_modality][ci]['train_auc']).reshape(3,1)))\n",
    "\n",
    "\n",
    "            store_dic_final_all[img_modality][ci]['weighted_class_pred_train'] = np.multiply(\n",
    "                np.array(store_dic_final_all[img_modality][ci]['class_weight_output']), \n",
    "                store_dic_final_all[img_modality][ci]['train_pred_prob'])\n",
    "            \n",
    "            store_dic_final_all[img_modality][ci]['weighted_class_pred_train'] = np.sum(store_dic_final_all[img_modality][ci]['weighted_class_pred_train'], axis=0)\n",
    "            \n",
    "            \n",
    "            store_dic_final_all[img_modality][ci]['weighted_class_pred'] = np.multiply(np.array(store_dic_final_all[img_modality][ci]['class_weight_output']), \n",
    "                                                                     store_dic_final_all[img_modality][ci]['test_pred_prob'])\n",
    "\n",
    "            store_dic_final_all[img_modality][ci]['weighted_class_pred'] = np.sum(store_dic_final_all[img_modality][ci]['weighted_class_pred'], axis=0)\n",
    "\n",
    "            # calculate combined class prediction to obtain auc\n",
    "            store_dic_final_all[img_modality][ci]['weighted_test_auc'] = sklearn.metrics.roc_auc_score(y_true=y_test, \n",
    "                                                                                     y_score=store_dic_final_all[img_modality][ci]['weighted_class_pred'])\n",
    "            \n",
    "            store_dic_final_all[img_modality][ci]['weighted_train_auc'] = sklearn.metrics.roc_auc_score(y_true=y_train, \n",
    "                                                                                     y_score=store_dic_final_all[img_modality][ci]['weighted_class_pred_train'])\n",
    "\n",
    "\n",
    "            store_dic_final_all[img_modality][ci]['majority_test_pred'] = np.median(store_dic_final_all[img_modality][ci]['test_pred'], axis=0)    \n",
    "            store_dic_final_all[img_modality][ci]['true'] = y_test\n",
    "            specificity, sensitivity, ppv, npv = dr_friendly_measures(store_dic_final_all[img_modality][ci]['true'],\n",
    "                                                                      store_dic_final_all[img_modality][ci]['majority_test_pred'])\n",
    "            store_dic_final_all[img_modality][ci]['majority_test_specificity'] = specificity\n",
    "            store_dic_final_all[img_modality][ci]['majority_test_sensitivity'] = sensitivity\n",
    "            store_dic_final_all[img_modality][ci]['majority_test_auc'].append(sklearn.metrics.roc_auc_score(y_true=store_dic_final_all[img_modality][ci]['true'], \n",
    "                                                                                                        y_score=store_dic_final_all[img_modality][ci]['majority_test_pred']))\n",
    "\n",
    "            \n",
    "            store_dic_final_all[img_modality][ci]['median_train_threshold'] = np.median(store_dic_final_all[img_modality][ci]['train_threshold'])\n",
    "\n",
    "            # weighted test predictions\n",
    "            store_dic_final_all[img_modality][ci]['weighted_test_pred_final'] = [1 if x >= np.median(store_dic_final_all[img_modality][ci]['train_threshold']) \\\n",
    "                                                                    else 0 for x in store_dic_final_all[img_modality][ci]['weighted_class_pred']]\n",
    "\n",
    "            specificity, sensitivity, ppv, npv = dr_friendly_measures(store_dic_final_all[img_modality][ci]['true'], \n",
    "                                                                      store_dic_final_all[img_modality][ci]['weighted_test_pred_final'])\n",
    "            store_dic_final_all[img_modality][ci]['weighted_test_specificity'] = specificity\n",
    "            store_dic_final_all[img_modality][ci]['weighted_test_sensitivity'] = sensitivity\n",
    "            \n",
    "    # save dictionary\n",
    "    \n",
    "    store_final_dict_filename = f\"./data/primary_clinical_radiomic_features/data/splits/cvnum-{cv_num}_seed-{random_state}/final_feature_rad_json/feature_test_{img_modality}.json\"\n",
    "\n",
    "    with open(store_final_dict_filename, 'wb') as handle:\n",
    "        pickle.dump(store_dic_final_all, handle)\n",
    "\n",
    "#         store_dic_final_all[img_modality][ci]['test_pred'] = 0\n",
    "#         store_dic_final_all[img_modality][ci]['weighted_class_pred'] = 0\n",
    "#         store_dic_final_all[img_modality][ci]['weighted_test_pred_final'] = 0\n",
    "#         store_dic_final_all[img_modality][ci]['test_pred_prob'] = 0\n",
    "#         store_dic_final_all[img_modality][ci]['majority_test_pred'] = 0\n",
    "#         store_dic_final_all[img_modality][ci]['true'] = 0\n",
    "\n",
    "            #     print(store_dic_final)\n",
    "\n",
    "#             assert 1 == 0, 'force stop'\n",
    "\n",
    "\n",
    "print('*'*80)\n",
    "print('*'*80)\n",
    "print('done')"
   ]
  },
  {
   "cell_type": "code",
   "execution_count": 6,
   "metadata": {},
   "outputs": [
    {
     "name": "stdout",
     "output_type": "stream",
     "text": [
      "pet\n",
      "weighted_test_auc   0.645021645021645\n",
      "weighted_test_specificity   0.8701298701298701\n",
      "weighted_test_sensitivity   0.2222222222222222\n",
      "\n",
      "pet_ct\n",
      "weighted_test_auc   0.7907647907647908\n",
      "weighted_test_specificity   0.8831168831168831\n",
      "weighted_test_sensitivity   0.4444444444444444\n",
      "\n"
     ]
    }
   ],
   "source": [
    "for img_modality in ['pet', 'pet_ct']:\n",
    "    print(img_modality)\n",
    "    store_final_dict_filename = f\"./data/primary_clinical_radiomic_features/data/splits/cvnum-{cv_num}_seed-{random_state}/final_feature_rad_json/feature_test_{img_modality}.json\"\n",
    "    with open(store_final_dict_filename, 'rb') as handle:\n",
    "        sorted_store_dic = pickle.load(handle)\n",
    "#         print(sorted_store_dic)\n",
    "        \n",
    "        for name in ['weighted_test_auc', \n",
    "                     'weighted_test_specificity', 'weighted_test_sensitivity']:\n",
    "            print(name, ' ',sorted_store_dic[img_modality][0][name])\n",
    "        print('')"
   ]
  },
  {
   "cell_type": "code",
   "execution_count": 7,
   "metadata": {},
   "outputs": [
    {
     "name": "stdout",
     "output_type": "stream",
     "text": [
      "pet\n",
      "model   [ExplainableBoostingClassifier(early_stopping_rounds=10,\n",
      "                              early_stopping_tolerance=0.1,\n",
      "                              feature_names=['original_firstorder_Range-pet',\n",
      "                                             'hpv_total',\n",
      "                                             'original_firstorder_Skewness-pet',\n",
      "                                             'gradient_gldm_DependenceEntropy-pet',\n",
      "                                             'Clinical T Stage',\n",
      "                                             'Disease Site_cat_5',\n",
      "                                             'pack_year_strat',\n",
      "                                             'original_glrlm_RunLengthNonUniformityNormalized-pet',\n",
      "                                             'original_shape_Flatness-...\n",
      "                                             'original_firstorder_Range-pet x '\n",
      "                                             'hpv_total',\n",
      "                                             'gradient_gldm_DependenceEntropy-pet '\n",
      "                                             'x original_shape_Flatness-pet'],\n",
      "                              feature_types=['continuous', 'continuous',\n",
      "                                             'continuous', 'continuous',\n",
      "                                             'continuous', 'categorical',\n",
      "                                             'continuous', 'continuous',\n",
      "                                             'continuous', 'interaction',\n",
      "                                             'interaction', 'interaction',\n",
      "                                             'interaction', 'interaction'],\n",
      "                              interactions=5, validation_size=0.2), ExplainableBoostingClassifier(early_stopping_rounds=10,\n",
      "                              early_stopping_tolerance=0.1,\n",
      "                              feature_names=['original_firstorder_Range-pet',\n",
      "                                             'hpv_total',\n",
      "                                             'original_firstorder_Skewness-pet',\n",
      "                                             'gradient_gldm_DependenceEntropy-pet',\n",
      "                                             'Clinical T Stage',\n",
      "                                             'pack_year_strat',\n",
      "                                             'original_glrlm_RunLengthNonUniformityNormalized-pet',\n",
      "                                             'original_shape_Flatness-pet',\n",
      "                                             'original_first...\n",
      "                                             'x original_shape_Flatness-pet',\n",
      "                                             'gradient_gldm_DependenceEntropy-pet '\n",
      "                                             'x original_shape_Flatness-pet',\n",
      "                                             'original_firstorder_Range-pet x '\n",
      "                                             'hpv_total'],\n",
      "                              feature_types=['continuous', 'continuous',\n",
      "                                             'continuous', 'continuous',\n",
      "                                             'continuous', 'continuous',\n",
      "                                             'continuous', 'continuous',\n",
      "                                             'interaction', 'interaction',\n",
      "                                             'interaction', 'interaction',\n",
      "                                             'interaction'],\n",
      "                              interactions=5, validation_size=0.2), ExplainableBoostingClassifier(early_stopping_rounds=10,\n",
      "                              early_stopping_tolerance=0.1,\n",
      "                              feature_names=['original_firstorder_Range-pet',\n",
      "                                             'original_firstorder_Skewness-pet',\n",
      "                                             'gradient_gldm_DependenceEntropy-pet',\n",
      "                                             'pack_year_strat',\n",
      "                                             'original_shape_Flatness-pet',\n",
      "                                             'original_firstorder_Range-pet x '\n",
      "                                             'original_firstorder_Skewness-pet',\n",
      "                                             'original_firstorder_Skewness-p...\n",
      "                                             'gradient_gldm_DependenceEntropy-pet '\n",
      "                                             'x original_shape_Flatness-pet',\n",
      "                                             'original_firstorder_Skewness-pet '\n",
      "                                             'x '\n",
      "                                             'gradient_gldm_DependenceEntropy-pet',\n",
      "                                             'original_firstorder_Skewness-pet '\n",
      "                                             'x pack_year_strat'],\n",
      "                              feature_types=['continuous', 'continuous',\n",
      "                                             'continuous', 'continuous',\n",
      "                                             'continuous', 'interaction',\n",
      "                                             'interaction', 'interaction',\n",
      "                                             'interaction', 'interaction'],\n",
      "                              interactions=5, validation_size=0.2)]\n",
      "\n",
      "pet_ct\n",
      "model   [ExplainableBoostingClassifier(early_stopping_rounds=10,\n",
      "                              early_stopping_tolerance=0.1,\n",
      "                              feature_names=['original_gldm_GrayLevelNonUniformity-pet_ct',\n",
      "                                             'hpv_total',\n",
      "                                             'original_firstorder_90Percentile-pet_ct',\n",
      "                                             'original_glszm_SmallAreaLowGrayLevelEmphasis-pet_ct',\n",
      "                                             'gradient_glszm_GrayLevelNonUniformity-pet_ct',\n",
      "                                             'original_firstorder_Entropy-pet_ct',\n",
      "                                             'original_gld...\n",
      "                                             'original_glcm_DifferenceEntropy-pet_ct '\n",
      "                                             'x '\n",
      "                                             'gradient_glszm_SmallAreaEmphasis-pet_ct'],\n",
      "                              feature_types=['continuous', 'continuous',\n",
      "                                             'continuous', 'continuous',\n",
      "                                             'continuous', 'continuous',\n",
      "                                             'continuous', 'continuous',\n",
      "                                             'continuous', 'continuous',\n",
      "                                             'continuous', 'interaction',\n",
      "                                             'interaction', 'interaction',\n",
      "                                             'interaction', 'interaction'],\n",
      "                              interactions=5, validation_size=0.2), ExplainableBoostingClassifier(early_stopping_rounds=10,\n",
      "                              early_stopping_tolerance=0.1,\n",
      "                              feature_names=['original_gldm_GrayLevelNonUniformity-pet_ct',\n",
      "                                             'hpv_total',\n",
      "                                             'original_firstorder_90Percentile-pet_ct',\n",
      "                                             'original_glszm_SmallAreaLowGrayLevelEmphasis-pet_ct',\n",
      "                                             'gradient_glszm_GrayLevelNonUniformity-pet_ct',\n",
      "                                             'original_firstorder_Entropy-pet_ct',\n",
      "                                             'original_gld...\n",
      "                                             'original_glcm_DifferenceEntropy-pet_ct '\n",
      "                                             'x '\n",
      "                                             'gradient_glszm_SmallAreaEmphasis-pet_ct'],\n",
      "                              feature_types=['continuous', 'continuous',\n",
      "                                             'continuous', 'continuous',\n",
      "                                             'continuous', 'continuous',\n",
      "                                             'continuous', 'continuous',\n",
      "                                             'continuous', 'continuous',\n",
      "                                             'continuous', 'interaction',\n",
      "                                             'interaction', 'interaction',\n",
      "                                             'interaction', 'interaction'],\n",
      "                              interactions=5, validation_size=0.2), ExplainableBoostingClassifier(early_stopping_rounds=10,\n",
      "                              early_stopping_tolerance=0.1,\n",
      "                              feature_names=['original_gldm_GrayLevelNonUniformity-pet_ct',\n",
      "                                             'hpv_total',\n",
      "                                             'original_firstorder_90Percentile-pet_ct',\n",
      "                                             'original_glszm_SmallAreaLowGrayLevelEmphasis-pet_ct',\n",
      "                                             'gradient_glszm_GrayLevelNonUniformity-pet_ct',\n",
      "                                             'original_firstorder_RobustMeanAbsoluteDeviation-p...\n",
      "                                             'original_glszm_SmallAreaLowGrayLevelEmphasis-pet_ct '\n",
      "                                             'x '\n",
      "                                             'gradient_glszm_SmallAreaEmphasis-pet_ct',\n",
      "                                             'hpv_total x '\n",
      "                                             'original_glszm_SmallAreaLowGrayLevelEmphasis-pet_ct'],\n",
      "                              feature_types=['continuous', 'continuous',\n",
      "                                             'continuous', 'continuous',\n",
      "                                             'continuous', 'continuous',\n",
      "                                             'continuous', 'interaction',\n",
      "                                             'interaction', 'interaction',\n",
      "                                             'interaction', 'interaction'],\n",
      "                              interactions=5, validation_size=0.2)]\n",
      "\n"
     ]
    }
   ],
   "source": [
    "for img_modality in ['pet', 'pet_ct']:\n",
    "    print(img_modality)\n",
    "    store_final_dict_filename = f\"./data/primary_clinical_radiomic_features/data/splits/cvnum-{cv_num}_seed-{random_state}/final_feature_rad_json/feature_test_{img_modality}.json\"\n",
    "    with open(store_final_dict_filename, 'rb') as handle:\n",
    "        sorted_store_dic = pickle.load(handle)\n",
    "#         print(sorted_store_dic)\n",
    "        \n",
    "        for name in ['model']:\n",
    "            print(name, ' ',sorted_store_dic[img_modality][0][name])\n",
    "        print('')"
   ]
  },
  {
   "cell_type": "code",
   "execution_count": 8,
   "metadata": {},
   "outputs": [
    {
     "name": "stdout",
     "output_type": "stream",
     "text": [
      "loading data\n",
      "evaluating data\n",
      "individual performance on  pet_ct   0.7907647907647908\n",
      "\n",
      "********************************************************************************\n",
      "\n",
      "Patients with outcome (1)\n",
      "True positives: 4\n",
      "False negatives: 5\n",
      "\n",
      "Patients without outcome (0)\n",
      "False positives: 8\n",
      "True negatives: 69\n",
      "\n",
      "[[69  8]\n",
      " [ 5  4]]\n",
      "specificity: 0.896\n",
      "sensitivity: 0.444\n",
      "ppv: 0.333\n",
      "npv: 0.932\n",
      "\n",
      "AUC for weighted modalities:  0.7907647907647908\n",
      "specificity for weighted modalities:  0.8961038961038961\n",
      "sensitivity for weighted modalities:  0.4444444444444444\n",
      "ppv for weighted modalities:  0.3333333333333333\n",
      "npv for weighted modalities:  0.9324324324324325\n"
     ]
    }
   ],
   "source": [
    "# Combining best models of image modalities\n",
    "def dr_friendly_measures(y_true, y_pred):\n",
    "    \"\"\"\n",
    "    :param y_true: ground truth\n",
    "    :param y_pred: prediction\n",
    "    :return: specificity, sensitivity, ppv, npv\n",
    "    \"\"\"\n",
    "    tn, fp, fn, tp = confusion_matrix(y_true, y_pred).ravel()\n",
    "\n",
    "#     print('')\n",
    "#     print('Summary of true values')\n",
    "    true_values = pd.DataFrame(y_true).rename(columns={0: 'true'})\n",
    "#     print(true_values.groupby('true')['true'].count())\n",
    "\n",
    "    print('')\n",
    "    print('Patients with outcome (1)')\n",
    "    print(f\"True positives: {tp}\")\n",
    "    print(f\"False negatives: {fn}\")\n",
    "    print('')\n",
    "    print('Patients without outcome (0)')\n",
    "    print(f\"False positives: {fp}\")\n",
    "    print(f\"True negatives: {tn}\")\n",
    "    print('')\n",
    "\n",
    "    print(confusion_matrix(y_true, y_pred))\n",
    "    specificity = tn / (tn + fp)\n",
    "    sensitivity = tp / (tp + fn)\n",
    "    ppv = tp / (tp + fp)\n",
    "    npv = tn / (tn + fn)\n",
    "\n",
    "    name1 = ['specificity', 'sensitivity', 'ppv', 'npv']\n",
    "    name2 = [specificity, sensitivity, ppv, npv]\n",
    "\n",
    "    for i in range(len(name1)):\n",
    "        print(f\"{name1[i]}: {np.round(name2[i], 3)}\")\n",
    "\n",
    "    return specificity, sensitivity, ppv, npv\n",
    "\n",
    "\n",
    "best_model_modalities = {x: {} for x in ['pet', 'pet_ct', 'ctsim', 'bed']}\n",
    "\n",
    "weighted_train_auc_list = []\n",
    "weighted_test_pred_list = []\n",
    "weighted_train_pred_list = []\n",
    "\n",
    "image_eval = ['pet_ct']\n",
    "\n",
    "print('loading data')\n",
    "for img_modality in image_eval:\n",
    "#     print(img_modality)\n",
    "    store_final_dict_filename = f\"./data/primary_clinical_radiomic_features/data/splits/cvnum-{cv_num}_seed-{random_state}/final_feature_rad_json/feature_test_{img_modality}.json\"\n",
    "    with open(store_final_dict_filename, 'rb') as handle:\n",
    "        sorted_store_dic = pickle.load(handle)\n",
    "    best_model_modalities[img_modality] = sorted_store_dic\n",
    "    \n",
    "\n",
    "print('evaluating data')\n",
    "for img_modality in image_eval:\n",
    "    weighted_test_pred_list.append(best_model_modalities[img_modality][img_modality][0]['weighted_class_pred'])\n",
    "    weighted_train_pred_list.append(best_model_modalities[img_modality][img_modality][0]['weighted_class_pred_train'])\n",
    "    weighted_train_auc_list.append(best_model_modalities[img_modality][img_modality][0]['weighted_train_auc'])\n",
    "    y_true = best_model_modalities[img_modality][img_modality][0]['true']\n",
    "    print('individual performance on ', img_modality, ' ',  best_model_modalities[img_modality][img_modality][0]['weighted_test_auc'])\n",
    "    \n",
    "    \n",
    "train_auc_weight_modality = np.divide(np.array(weighted_train_auc_list).reshape(len(image_eval), 1), \n",
    "                                      np.sum(np.array(weighted_train_auc_list).reshape(len(image_eval), 1)))\n",
    "\n",
    "# weighted class prediction (over selected image modalities)\n",
    "total_weighted_class_pred_modalities = np.multiply(np.array(train_auc_weight_modality), \n",
    "                                                         weighted_test_pred_list)\n",
    "\n",
    "total_weighted_class_pred_modalities = np.sum(total_weighted_class_pred_modalities, axis=0)\n",
    "\n",
    "# finding optimal threshold from training data\n",
    "total_weighted_class_pred_modalities_train = np.multiply(np.array(train_auc_weight_modality), \n",
    "                                                         weighted_train_pred_list)\n",
    "\n",
    "total_weighted_class_pred_modalities_train = np.sum(total_weighted_class_pred_modalities_train, axis=0)\n",
    "\n",
    "optim_train_thresh = Find_Optimal_Cutoff(target=y_train, predicted=total_weighted_class_pred_modalities_train)[0]\n",
    "\n",
    "\n",
    "total_weighted_threshold_pred_modalities = [1 if x >= optim_train_thresh \\\n",
    "                                                                    else 0 for x in total_weighted_class_pred_modalities]\n",
    "\n",
    "# Evaluating final AUC\n",
    "weighted_modality_auc = sklearn.metrics.roc_auc_score(y_true=y_true, \n",
    "                              y_score=total_weighted_class_pred_modalities)\n",
    "\n",
    "\n",
    "\n",
    "\n",
    "print('')\n",
    "print('*'*80)\n",
    "specificity, sensitivity, ppv, npv = dr_friendly_measures(y_true, \n",
    "                                                          total_weighted_threshold_pred_modalities)\n",
    "print('')\n",
    "print('AUC for weighted modalities: ', weighted_modality_auc)\n",
    "print('specificity for weighted modalities: ', specificity)\n",
    "print('sensitivity for weighted modalities: ', sensitivity)\n",
    "print('ppv for weighted modalities: ', ppv)\n",
    "print('npv for weighted modalities: ', npv)\n",
    "\n",
    "\n"
   ]
  },
  {
   "cell_type": "code",
   "execution_count": 9,
   "metadata": {},
   "outputs": [
    {
     "name": "stdout",
     "output_type": "stream",
     "text": [
      "loading data\n",
      "evaluating data\n",
      "individual performance on  pet   0.645021645021645\n",
      "\n",
      "********************************************************************************\n",
      "\n",
      "Patients with outcome (1)\n",
      "True positives: 2\n",
      "False negatives: 7\n",
      "\n",
      "Patients without outcome (0)\n",
      "False positives: 10\n",
      "True negatives: 67\n",
      "\n",
      "[[67 10]\n",
      " [ 7  2]]\n",
      "specificity: 0.87\n",
      "sensitivity: 0.222\n",
      "ppv: 0.167\n",
      "npv: 0.905\n",
      "\n",
      "AUC for weighted modalities:  0.645021645021645\n",
      "specificity for weighted modalities:  0.8701298701298701\n",
      "sensitivity for weighted modalities:  0.2222222222222222\n",
      "ppv for weighted modalities:  0.16666666666666666\n",
      "npv for weighted modalities:  0.9054054054054054\n"
     ]
    }
   ],
   "source": [
    "# Combining best models of image modalities\n",
    "def dr_friendly_measures(y_true, y_pred):\n",
    "    \"\"\"\n",
    "    :param y_true: ground truth\n",
    "    :param y_pred: prediction\n",
    "    :return: specificity, sensitivity, ppv, npv\n",
    "    \"\"\"\n",
    "    tn, fp, fn, tp = confusion_matrix(y_true, y_pred).ravel()\n",
    "\n",
    "#     print('')\n",
    "#     print('Summary of true values')\n",
    "    true_values = pd.DataFrame(y_true).rename(columns={0: 'true'})\n",
    "#     print(true_values.groupby('true')['true'].count())\n",
    "\n",
    "    print('')\n",
    "    print('Patients with outcome (1)')\n",
    "    print(f\"True positives: {tp}\")\n",
    "    print(f\"False negatives: {fn}\")\n",
    "    print('')\n",
    "    print('Patients without outcome (0)')\n",
    "    print(f\"False positives: {fp}\")\n",
    "    print(f\"True negatives: {tn}\")\n",
    "    print('')\n",
    "\n",
    "    print(confusion_matrix(y_true, y_pred))\n",
    "    specificity = tn / (tn + fp)\n",
    "    sensitivity = tp / (tp + fn)\n",
    "    ppv = tp / (tp + fp)\n",
    "    npv = tn / (tn + fn)\n",
    "\n",
    "    name1 = ['specificity', 'sensitivity', 'ppv', 'npv']\n",
    "    name2 = [specificity, sensitivity, ppv, npv]\n",
    "\n",
    "    for i in range(len(name1)):\n",
    "        print(f\"{name1[i]}: {np.round(name2[i], 3)}\")\n",
    "\n",
    "    return specificity, sensitivity, ppv, npv\n",
    "\n",
    "\n",
    "best_model_modalities = {x: {} for x in ['pet', 'pet_ct', 'ctsim', 'bed']}\n",
    "\n",
    "weighted_train_auc_list = []\n",
    "weighted_test_pred_list = []\n",
    "weighted_train_pred_list = []\n",
    "\n",
    "image_eval = ['pet']\n",
    "\n",
    "print('loading data')\n",
    "for img_modality in image_eval:\n",
    "#     print(img_modality)\n",
    "    store_final_dict_filename = f\"./data/primary_clinical_radiomic_features/data/splits/cvnum-{cv_num}_seed-{random_state}/final_feature_rad_json/feature_test_{img_modality}.json\"\n",
    "    with open(store_final_dict_filename, 'rb') as handle:\n",
    "        sorted_store_dic = pickle.load(handle)\n",
    "    best_model_modalities[img_modality] = sorted_store_dic\n",
    "    \n",
    "\n",
    "print('evaluating data')\n",
    "for img_modality in image_eval:\n",
    "    weighted_test_pred_list.append(best_model_modalities[img_modality][img_modality][0]['weighted_class_pred'])\n",
    "    weighted_train_pred_list.append(best_model_modalities[img_modality][img_modality][0]['weighted_class_pred_train'])\n",
    "    weighted_train_auc_list.append(best_model_modalities[img_modality][img_modality][0]['weighted_train_auc'])\n",
    "    y_true = best_model_modalities[img_modality][img_modality][0]['true']\n",
    "    print('individual performance on ', img_modality, ' ',  best_model_modalities[img_modality][img_modality][0]['weighted_test_auc'])\n",
    "    \n",
    "    \n",
    "train_auc_weight_modality = np.divide(np.array(weighted_train_auc_list).reshape(len(image_eval), 1), \n",
    "                                      np.sum(np.array(weighted_train_auc_list).reshape(len(image_eval), 1)))\n",
    "\n",
    "# weighted class prediction (over selected image modalities)\n",
    "total_weighted_class_pred_modalities = np.multiply(np.array(train_auc_weight_modality), \n",
    "                                                         weighted_test_pred_list)\n",
    "\n",
    "total_weighted_class_pred_modalities = np.sum(total_weighted_class_pred_modalities, axis=0)\n",
    "\n",
    "# finding optimal threshold from training data\n",
    "total_weighted_class_pred_modalities_train = np.multiply(np.array(train_auc_weight_modality), \n",
    "                                                         weighted_train_pred_list)\n",
    "\n",
    "total_weighted_class_pred_modalities_train = np.sum(total_weighted_class_pred_modalities_train, axis=0)\n",
    "\n",
    "optim_train_thresh = Find_Optimal_Cutoff(target=y_train, predicted=total_weighted_class_pred_modalities_train)[0]\n",
    "\n",
    "\n",
    "total_weighted_threshold_pred_modalities = [1 if x >= optim_train_thresh \\\n",
    "                                                                    else 0 for x in total_weighted_class_pred_modalities]\n",
    "\n",
    "# Evaluating final AUC\n",
    "weighted_modality_auc = sklearn.metrics.roc_auc_score(y_true=y_true, \n",
    "                              y_score=total_weighted_class_pred_modalities)\n",
    "\n",
    "\n",
    "\n",
    "\n",
    "print('')\n",
    "print('*'*80)\n",
    "specificity, sensitivity, ppv, npv = dr_friendly_measures(y_true, \n",
    "                                                          total_weighted_threshold_pred_modalities)\n",
    "print('')\n",
    "print('AUC for weighted modalities: ', weighted_modality_auc)\n",
    "print('specificity for weighted modalities: ', specificity)\n",
    "print('sensitivity for weighted modalities: ', sensitivity)\n",
    "print('ppv for weighted modalities: ', ppv)\n",
    "print('npv for weighted modalities: ', npv)\n",
    "\n",
    "\n"
   ]
  },
  {
   "cell_type": "code",
   "execution_count": 12,
   "metadata": {},
   "outputs": [
    {
     "name": "stdout",
     "output_type": "stream",
     "text": [
      "loading data\n",
      "evaluating data\n",
      "individual performance on  pet   0.645021645021645\n",
      "individual performance on  pet_ct   0.7907647907647908\n",
      "\n",
      "********************************************************************************\n",
      "\n",
      "Patients with outcome (1)\n",
      "True positives: 2\n",
      "False negatives: 7\n",
      "\n",
      "Patients without outcome (0)\n",
      "False positives: 6\n",
      "True negatives: 71\n",
      "\n",
      "[[71  6]\n",
      " [ 7  2]]\n",
      "specificity: 0.922\n",
      "sensitivity: 0.222\n",
      "ppv: 0.25\n",
      "npv: 0.91\n",
      "\n",
      "AUC for weighted modalities:  0.7445887445887446\n",
      "specificity for weighted modalities:  0.922077922077922\n",
      "sensitivity for weighted modalities:  0.2222222222222222\n",
      "ppv for weighted modalities:  0.25\n",
      "npv for weighted modalities:  0.9102564102564102\n"
     ]
    }
   ],
   "source": [
    "# Combining best models of image modalities\n",
    "def dr_friendly_measures(y_true, y_pred):\n",
    "    \"\"\"\n",
    "    :param y_true: ground truth\n",
    "    :param y_pred: prediction\n",
    "    :return: specificity, sensitivity, ppv, npv\n",
    "    \"\"\"\n",
    "    tn, fp, fn, tp = confusion_matrix(y_true, y_pred).ravel()\n",
    "\n",
    "#     print('')\n",
    "#     print('Summary of true values')\n",
    "    true_values = pd.DataFrame(y_true).rename(columns={0: 'true'})\n",
    "#     print(true_values.groupby('true')['true'].count())\n",
    "\n",
    "    print('')\n",
    "    print('Patients with outcome (1)')\n",
    "    print(f\"True positives: {tp}\")\n",
    "    print(f\"False negatives: {fn}\")\n",
    "    print('')\n",
    "    print('Patients without outcome (0)')\n",
    "    print(f\"False positives: {fp}\")\n",
    "    print(f\"True negatives: {tn}\")\n",
    "    print('')\n",
    "\n",
    "    print(confusion_matrix(y_true, y_pred))\n",
    "    specificity = tn / (tn + fp)\n",
    "    sensitivity = tp / (tp + fn)\n",
    "    ppv = tp / (tp + fp)\n",
    "    npv = tn / (tn + fn)\n",
    "\n",
    "    name1 = ['specificity', 'sensitivity', 'ppv', 'npv']\n",
    "    name2 = [specificity, sensitivity, ppv, npv]\n",
    "\n",
    "    for i in range(len(name1)):\n",
    "        print(f\"{name1[i]}: {np.round(name2[i], 3)}\")\n",
    "\n",
    "    return specificity, sensitivity, ppv, npv\n",
    "\n",
    "\n",
    "best_model_modalities = {x: {} for x in ['pet', 'pet_ct', 'ctsim', 'bed']}\n",
    "\n",
    "weighted_train_auc_list = []\n",
    "weighted_test_pred_list = []\n",
    "weighted_train_pred_list = []\n",
    "\n",
    "image_eval = ['pet', 'pet_ct']\n",
    "\n",
    "print('loading data')\n",
    "for img_modality in image_eval:\n",
    "#     print(img_modality)\n",
    "    store_final_dict_filename = f\"./data/primary_clinical_radiomic_features/data/splits/cvnum-{cv_num}_seed-{random_state}/final_feature_rad_json/feature_test_{img_modality}.json\"\n",
    "    with open(store_final_dict_filename, 'rb') as handle:\n",
    "        sorted_store_dic = pickle.load(handle)\n",
    "    best_model_modalities[img_modality] = sorted_store_dic\n",
    "    \n",
    "\n",
    "print('evaluating data')\n",
    "for img_modality in image_eval:\n",
    "    weighted_test_pred_list.append(best_model_modalities[img_modality][img_modality][0]['weighted_class_pred'])\n",
    "    weighted_train_pred_list.append(best_model_modalities[img_modality][img_modality][0]['weighted_class_pred_train'])\n",
    "    weighted_train_auc_list.append(best_model_modalities[img_modality][img_modality][0]['weighted_train_auc'])\n",
    "    y_true = best_model_modalities[img_modality][img_modality][0]['true']\n",
    "    print('individual performance on ', img_modality, ' ',  best_model_modalities[img_modality][img_modality][0]['weighted_test_auc'])\n",
    "    \n",
    "    \n",
    "train_auc_weight_modality = np.divide(np.array(weighted_train_auc_list).reshape(len(image_eval), 1), \n",
    "                                      np.sum(np.array(weighted_train_auc_list).reshape(len(image_eval), 1)))\n",
    "\n",
    "# weighted class prediction (over selected image modalities)\n",
    "total_weighted_class_pred_modalities = np.multiply(np.array(train_auc_weight_modality), \n",
    "                                                         weighted_test_pred_list)\n",
    "\n",
    "total_weighted_class_pred_modalities = np.sum(total_weighted_class_pred_modalities, axis=0)\n",
    "\n",
    "# finding optimal threshold from training data\n",
    "total_weighted_class_pred_modalities_train = np.multiply(np.array(train_auc_weight_modality), \n",
    "                                                         weighted_train_pred_list)\n",
    "\n",
    "total_weighted_class_pred_modalities_train = np.sum(total_weighted_class_pred_modalities_train, axis=0)\n",
    "\n",
    "optim_train_thresh = Find_Optimal_Cutoff(target=y_train, predicted=total_weighted_class_pred_modalities_train)[0]\n",
    "\n",
    "\n",
    "total_weighted_threshold_pred_modalities = [1 if x >= optim_train_thresh \\\n",
    "                                                                    else 0 for x in total_weighted_class_pred_modalities]\n",
    "\n",
    "# Evaluating final AUC\n",
    "weighted_modality_auc = sklearn.metrics.roc_auc_score(y_true=y_true, \n",
    "                              y_score=total_weighted_class_pred_modalities)\n",
    "\n",
    "\n",
    "\n",
    "\n",
    "print('')\n",
    "print('*'*80)\n",
    "specificity, sensitivity, ppv, npv = dr_friendly_measures(y_true, \n",
    "                                                          total_weighted_threshold_pred_modalities)\n",
    "print('')\n",
    "print('AUC for weighted modalities: ', weighted_modality_auc)\n",
    "print('specificity for weighted modalities: ', specificity)\n",
    "print('sensitivity for weighted modalities: ', sensitivity)\n",
    "print('ppv for weighted modalities: ', ppv)\n",
    "print('npv for weighted modalities: ', npv)\n",
    "\n",
    "\n"
   ]
  },
  {
   "cell_type": "code",
   "execution_count": 18,
   "metadata": {},
   "outputs": [
    {
     "name": "stdout",
     "output_type": "stream",
     "text": [
      "loading certainty, predictions, and labels\n",
      "Looking at columns\n",
      "['Unnamed: 0', 'mrn', 'primary_unc', 'ln_unc', 'prim_pred', 'ln_pred', 'followup', 'Post-Radiation PET Date', 'RT End Date', 'Post-Radiation PET Date.1', 'reader', 'Notes', 'notes', 'pet_notes']\n",
      "['MRN', 'Primary_Recurrence']\n",
      "Selecting features\n",
      "creating new dataframe\n",
      "number in label df:  210\n",
      "number in pred df:  211\n",
      "number in new df:  198\n",
      "\n",
      "Patients with outcome (1)\n",
      "True positives: 5\n",
      "False negatives: 4\n",
      "\n",
      "Patients without outcome (0)\n",
      "False positives: 22\n",
      "True negatives: 55\n",
      "\n",
      "[[55 22]\n",
      " [ 4  5]]\n",
      "specificity: 0.714\n",
      "sensitivity: 0.556\n",
      "ppv: 0.185\n",
      "npv: 0.932\n"
     ]
    }
   ],
   "source": [
    "main_dir = r'C:\\Users\\s185479\\OneDrive - University of Texas Southwestern\\Research\\Holman_Pathway\\Data\\other_data_important_notes'\n",
    "uncert_pred_name = ('base_uncertainty_note_file_updated_02102022_20221018.xlsx', 'Sheet1')\n",
    "label_name = ('pet_ct_check_02072022.xlsx', 'p_res_dis_recur')\n",
    "\n",
    "print('loading certainty, predictions, and labels')\n",
    "unc_pred_df = pd.read_excel(os.path.join(main_dir, uncert_pred_name[0]), sheet_name=uncert_pred_name[1])\n",
    "label_df = pd.read_excel(os.path.join(main_dir, label_name[0]), sheet_name=label_name[1])\n",
    "\n",
    "print('Looking at columns')\n",
    "print(unc_pred_df.columns.tolist())\n",
    "print(label_df.columns.tolist())\n",
    "\n",
    "print('Selecting features')\n",
    "y_label = ['Primary_Recurrence']\n",
    "unc_pred_features = ['mrn', 'primary_unc', 'ln_unc', 'prim_pred', 'ln_pred', 'followup', 'reader', 'Post-Radiation PET Date']\n",
    "\n",
    "unc_pred_df = unc_pred_df[unc_pred_features]\n",
    "\n",
    "# contains the final uncertain cohort that accounts dropping patients with missing imaging data\n",
    "# this was saved separately for ease of presenting the data; \n",
    "mrn_holdout = np.load(r'C:/Users/s185479/Desktop/uncertain.npy')\n",
    "\n",
    "\n",
    "print('creating new dataframe')\n",
    "print('number in label df: ', len(label_df))\n",
    "print('number in pred df: ', len(unc_pred_df))\n",
    "new_df = pd.DataFrame()\n",
    "new_df = label_df.merge(unc_pred_df, left_on='MRN', right_on='mrn')\n",
    "new_df = new_df.loc[new_df.followup==1]\n",
    "print('number in new df: ', len(new_df))\n",
    "\n",
    "uncertain_df = new_df.loc[new_df.primary_unc==1]\n",
    "uncertain_df = uncertain_df[uncertain_df.MRN.isin(mrn_holdout)]\n",
    "# print(type(uncertain_df['MRN'].tolist()[0]))\n",
    "y_true = np.array(uncertain_df['Primary_Recurrence']) \n",
    "y_pred = np.array(uncertain_df['prim_pred'])\n",
    "\n",
    "_ = dr_friendly_measures(y_true=y_true, y_pred=y_pred)"
   ]
  },
  {
   "cell_type": "code",
   "execution_count": 10,
   "metadata": {},
   "outputs": [
    {
     "data": {
      "text/plain": [
       "'\\n\\nAPPENDIX\\n\\n'"
      ]
     },
     "execution_count": 10,
     "metadata": {},
     "output_type": "execute_result"
    }
   ],
   "source": [
    "'''\n",
    "\n",
    "APPENDIX\n",
    "\n",
    "'''"
   ]
  },
  {
   "cell_type": "code",
   "execution_count": 11,
   "metadata": {},
   "outputs": [
    {
     "data": {
      "text/plain": [
       "{'bed': {0: {'features': [['hpv_total',\n",
       "     'original_gldm_GrayLevelVariance-bed',\n",
       "     'original_ngtdm_Strength-bed',\n",
       "     'original_glszm_SmallAreaLowGrayLevelEmphasis-bed',\n",
       "     'Clinical T Stage',\n",
       "     'original_gldm_DependenceEntropy-bed'],\n",
       "    ['hpv_total',\n",
       "     'original_gldm_GrayLevelVariance-bed',\n",
       "     'original_glcm_Correlation-bed',\n",
       "     'original_ngtdm_Strength-bed',\n",
       "     'original_glszm_SmallAreaLowGrayLevelEmphasis-bed',\n",
       "     'original_glcm_Autocorrelation-bed',\n",
       "     'original_gldm_DependenceEntropy-bed'],\n",
       "    ['hpv_total',\n",
       "     'original_gldm_GrayLevelVariance-bed',\n",
       "     'gradient_firstorder_MeanAbsoluteDeviation-bed',\n",
       "     'original_glcm_Correlation-bed',\n",
       "     'original_ngtdm_Strength-bed',\n",
       "     'original_glszm_SmallAreaLowGrayLevelEmphasis-bed',\n",
       "     'original_firstorder_Kurtosis-bed',\n",
       "     'original_glcm_Autocorrelation-bed',\n",
       "     'Clinical T Stage',\n",
       "     'original_gldm_DependenceEntropy-bed']],\n",
       "   'test_auc': [0.5995670995670995, 0.613997113997114, 0.6594516594516594],\n",
       "   'train_auc': [0.9755813953488373, 0.9674418604651164, 0.972093023255814],\n",
       "   'train_threshold': [0.2871700847667518,\n",
       "    0.2925379961599201,\n",
       "    0.3086732535100253],\n",
       "   'test_pred': [[0,\n",
       "     0,\n",
       "     0,\n",
       "     0,\n",
       "     0,\n",
       "     0,\n",
       "     0,\n",
       "     0,\n",
       "     0,\n",
       "     0,\n",
       "     0,\n",
       "     0,\n",
       "     0,\n",
       "     0,\n",
       "     0,\n",
       "     0,\n",
       "     0,\n",
       "     0,\n",
       "     0,\n",
       "     0,\n",
       "     0,\n",
       "     0,\n",
       "     0,\n",
       "     0,\n",
       "     0,\n",
       "     0,\n",
       "     0,\n",
       "     0,\n",
       "     0,\n",
       "     0,\n",
       "     0,\n",
       "     0,\n",
       "     0,\n",
       "     0,\n",
       "     0,\n",
       "     0,\n",
       "     0,\n",
       "     0,\n",
       "     0,\n",
       "     0,\n",
       "     0,\n",
       "     0,\n",
       "     0,\n",
       "     0,\n",
       "     0,\n",
       "     0,\n",
       "     0,\n",
       "     0,\n",
       "     0,\n",
       "     1,\n",
       "     0,\n",
       "     0,\n",
       "     0,\n",
       "     0,\n",
       "     0,\n",
       "     0,\n",
       "     0,\n",
       "     0,\n",
       "     0,\n",
       "     0,\n",
       "     0,\n",
       "     0,\n",
       "     0,\n",
       "     0,\n",
       "     0,\n",
       "     0,\n",
       "     0,\n",
       "     0,\n",
       "     0,\n",
       "     0,\n",
       "     0,\n",
       "     0,\n",
       "     1,\n",
       "     1,\n",
       "     0,\n",
       "     0,\n",
       "     0,\n",
       "     0,\n",
       "     0,\n",
       "     0,\n",
       "     0,\n",
       "     0,\n",
       "     0,\n",
       "     0,\n",
       "     0,\n",
       "     0],\n",
       "    [0,\n",
       "     0,\n",
       "     0,\n",
       "     0,\n",
       "     0,\n",
       "     0,\n",
       "     0,\n",
       "     0,\n",
       "     0,\n",
       "     0,\n",
       "     0,\n",
       "     0,\n",
       "     0,\n",
       "     0,\n",
       "     0,\n",
       "     0,\n",
       "     0,\n",
       "     0,\n",
       "     0,\n",
       "     0,\n",
       "     0,\n",
       "     0,\n",
       "     0,\n",
       "     0,\n",
       "     0,\n",
       "     0,\n",
       "     0,\n",
       "     0,\n",
       "     0,\n",
       "     0,\n",
       "     0,\n",
       "     0,\n",
       "     0,\n",
       "     0,\n",
       "     0,\n",
       "     0,\n",
       "     0,\n",
       "     0,\n",
       "     0,\n",
       "     0,\n",
       "     0,\n",
       "     0,\n",
       "     0,\n",
       "     0,\n",
       "     0,\n",
       "     0,\n",
       "     0,\n",
       "     0,\n",
       "     0,\n",
       "     0,\n",
       "     0,\n",
       "     0,\n",
       "     0,\n",
       "     0,\n",
       "     0,\n",
       "     0,\n",
       "     0,\n",
       "     0,\n",
       "     0,\n",
       "     0,\n",
       "     0,\n",
       "     0,\n",
       "     0,\n",
       "     0,\n",
       "     0,\n",
       "     0,\n",
       "     0,\n",
       "     0,\n",
       "     0,\n",
       "     0,\n",
       "     0,\n",
       "     0,\n",
       "     0,\n",
       "     1,\n",
       "     0,\n",
       "     0,\n",
       "     0,\n",
       "     0,\n",
       "     0,\n",
       "     0,\n",
       "     0,\n",
       "     0,\n",
       "     0,\n",
       "     0,\n",
       "     0,\n",
       "     0],\n",
       "    [0,\n",
       "     0,\n",
       "     0,\n",
       "     0,\n",
       "     0,\n",
       "     0,\n",
       "     0,\n",
       "     0,\n",
       "     0,\n",
       "     0,\n",
       "     0,\n",
       "     0,\n",
       "     0,\n",
       "     0,\n",
       "     0,\n",
       "     0,\n",
       "     0,\n",
       "     0,\n",
       "     0,\n",
       "     0,\n",
       "     0,\n",
       "     0,\n",
       "     0,\n",
       "     0,\n",
       "     0,\n",
       "     0,\n",
       "     0,\n",
       "     0,\n",
       "     0,\n",
       "     0,\n",
       "     0,\n",
       "     0,\n",
       "     0,\n",
       "     0,\n",
       "     0,\n",
       "     0,\n",
       "     0,\n",
       "     0,\n",
       "     0,\n",
       "     0,\n",
       "     0,\n",
       "     0,\n",
       "     0,\n",
       "     0,\n",
       "     0,\n",
       "     0,\n",
       "     0,\n",
       "     0,\n",
       "     0,\n",
       "     1,\n",
       "     0,\n",
       "     0,\n",
       "     0,\n",
       "     0,\n",
       "     0,\n",
       "     0,\n",
       "     0,\n",
       "     0,\n",
       "     0,\n",
       "     0,\n",
       "     0,\n",
       "     0,\n",
       "     0,\n",
       "     0,\n",
       "     0,\n",
       "     0,\n",
       "     0,\n",
       "     0,\n",
       "     0,\n",
       "     0,\n",
       "     0,\n",
       "     0,\n",
       "     0,\n",
       "     1,\n",
       "     0,\n",
       "     0,\n",
       "     0,\n",
       "     0,\n",
       "     0,\n",
       "     0,\n",
       "     0,\n",
       "     0,\n",
       "     0,\n",
       "     0,\n",
       "     0,\n",
       "     0]],\n",
       "   'test_pred_prob': [array([0.14423738, 0.14074891, 0.12638486, 0.14962034, 0.14145963,\n",
       "           0.13067993, 0.28095566, 0.1139743 , 0.17005196, 0.14074592,\n",
       "           0.14962034, 0.14423738, 0.18129359, 0.11566539, 0.17144036,\n",
       "           0.11772558, 0.1561571 , 0.20544146, 0.14062184, 0.20780809,\n",
       "           0.25704257, 0.162005  , 0.24111615, 0.11435602, 0.13696575,\n",
       "           0.12763979, 0.11392783, 0.1561571 , 0.25474459, 0.18982481,\n",
       "           0.1139743 , 0.26892571, 0.1111023 , 0.11772558, 0.12661012,\n",
       "           0.12933304, 0.15969798, 0.1398149 , 0.22091304, 0.11879715,\n",
       "           0.11718911, 0.11676059, 0.11107727, 0.11569131, 0.1111023 ,\n",
       "           0.11882368, 0.25806682, 0.22865304, 0.21248703, 0.30788763,\n",
       "           0.10220287, 0.10220287, 0.23747652, 0.13952546, 0.11107727,\n",
       "           0.13048549, 0.15943681, 0.15830414, 0.14140399, 0.11392783,\n",
       "           0.14983785, 0.14361045, 0.1111023 , 0.26086816, 0.23526249,\n",
       "           0.1111023 , 0.10044769, 0.13749693, 0.18729177, 0.17074091,\n",
       "           0.11954531, 0.16708171, 0.42635604, 0.47184729, 0.14145963,\n",
       "           0.28541795, 0.10220287, 0.1515178 , 0.12844479, 0.12119585,\n",
       "           0.13544795, 0.1337821 , 0.11095367, 0.16221671, 0.19914692,\n",
       "           0.10220287]),\n",
       "    array([0.12931164, 0.13032885, 0.10236166, 0.12274785, 0.12274785,\n",
       "           0.12302338, 0.24859426, 0.09935617, 0.15332539, 0.13070783,\n",
       "           0.12274785, 0.13378992, 0.13272301, 0.0996372 , 0.14421992,\n",
       "           0.09633645, 0.13070783, 0.18831694, 0.11592045, 0.17964515,\n",
       "           0.22547258, 0.12854851, 0.2854222 , 0.09870428, 0.11947629,\n",
       "           0.11320077, 0.09633645, 0.13070783, 0.19354846, 0.18013825,\n",
       "           0.09935617, 0.21476388, 0.09633645, 0.09633645, 0.10554818,\n",
       "           0.12038689, 0.14176988, 0.10460367, 0.17292849, 0.1031153 ,\n",
       "           0.11215667, 0.10469131, 0.09633645, 0.09999401, 0.09633645,\n",
       "           0.09986675, 0.22136105, 0.25784391, 0.15071507, 0.25767359,\n",
       "           0.09633645, 0.09633645, 0.15057663, 0.11730104, 0.09633645,\n",
       "           0.12274785, 0.14202506, 0.13464441, 0.12931164, 0.09633645,\n",
       "           0.13690655, 0.11720437, 0.09633645, 0.21054401, 0.18958452,\n",
       "           0.09633645, 0.09483011, 0.13666328, 0.17366719, 0.14712809,\n",
       "           0.10119737, 0.14202506, 0.29139723, 0.43132581, 0.12274785,\n",
       "           0.20634846, 0.09633645, 0.12647958, 0.10684741, 0.10359807,\n",
       "           0.11952072, 0.10236166, 0.09912766, 0.1603929 , 0.16303026,\n",
       "           0.09633645]),\n",
       "    array([0.14813625, 0.14500979, 0.07552644, 0.09896942, 0.09270767,\n",
       "           0.08718623, 0.22264045, 0.08411859, 0.17062253, 0.09436871,\n",
       "           0.09717627, 0.13360805, 0.09831291, 0.07487406, 0.10929149,\n",
       "           0.07533278, 0.10527735, 0.15157668, 0.08361226, 0.14178532,\n",
       "           0.16425424, 0.12122163, 0.22932331, 0.07308335, 0.11452248,\n",
       "           0.08479137, 0.07349498, 0.10327366, 0.15551893, 0.14549372,\n",
       "           0.11173107, 0.21954457, 0.07206547, 0.07684082, 0.09034022,\n",
       "           0.11604312, 0.14102832, 0.09158978, 0.17233333, 0.09697861,\n",
       "           0.07735365, 0.07280926, 0.07178878, 0.0746812 , 0.0714344 ,\n",
       "           0.07664754, 0.16652843, 0.21181306, 0.16165394, 0.31635699,\n",
       "           0.06531182, 0.06531182, 0.13845807, 0.0799745 , 0.07323149,\n",
       "           0.08624476, 0.11045204, 0.13334768, 0.14496836, 0.07349498,\n",
       "           0.09447738, 0.07932314, 0.07178878, 0.15107834, 0.18726613,\n",
       "           0.0714344 , 0.06397105, 0.09362349, 0.18345389, 0.13255572,\n",
       "           0.10643986, 0.1138308 , 0.24824401, 0.48007902, 0.09270767,\n",
       "           0.20961412, 0.06531182, 0.12484362, 0.11521011, 0.08102921,\n",
       "           0.10924419, 0.07977004, 0.09540335, 0.13916498, 0.14291539,\n",
       "           0.06531182])],\n",
       "   'train_pred_prob': [array([0.11772558, 0.1111023 , 0.14681133, 0.66322536, 0.1111023 ,\n",
       "           0.55805507, 0.18343287, 0.10044769, 0.14145963, 0.10220287,\n",
       "           0.3479591 , 0.45384308, 0.10970036, 0.2185807 , 0.1111023 ,\n",
       "           0.10220287, 0.14434496, 0.1111023 , 0.1111023 , 0.10044769,\n",
       "           0.1139743 , 0.20488777, 0.10986589, 0.14359694, 0.21599668,\n",
       "           0.14078974, 0.15247345, 0.13948356, 0.13817189, 0.13847743,\n",
       "           0.10217962, 0.11775301, 0.16395991, 0.1111023 , 0.11392783,\n",
       "           0.36795236, 0.11177631, 0.11107727, 0.13048549, 0.22406168,\n",
       "           0.19639902, 0.10220287, 0.11392783, 0.1111023 , 0.10220287,\n",
       "           0.14496273, 0.10220287, 0.21697664, 0.1524317 , 0.15990002,\n",
       "           0.16751545, 0.15000775, 0.1111023 , 0.10455926, 0.1111023 ,\n",
       "           0.14657189, 0.10233684, 0.42679716, 0.10220287, 0.22864241,\n",
       "           0.15431327, 0.10220287, 0.1111023 , 0.17765271, 0.28717008,\n",
       "           0.12036898, 0.1515178 , 0.15004955, 0.14145963, 0.10895063,\n",
       "           0.14964332, 0.20195578, 0.19463233, 0.11107727, 0.15943681,\n",
       "           0.10220287, 0.11777339, 0.1524317 , 0.14379907, 0.10220287,\n",
       "           0.1111023 , 0.2943325 , 0.42958152, 0.1561571 , 0.18316975,\n",
       "           0.17366397, 0.20374607, 0.152482  , 0.68151273, 0.23335651,\n",
       "           0.14683361, 0.13402393, 0.12457779, 0.14145963, 0.10220287,\n",
       "           0.10220287]),\n",
       "    array([0.09633645, 0.09633645, 0.12647958, 0.72378442, 0.09633645,\n",
       "           0.62933866, 0.15228567, 0.09595719, 0.12274785, 0.09633645,\n",
       "           0.47169204, 0.55550421, 0.0968822 , 0.17586309, 0.09633645,\n",
       "           0.09633645, 0.12296552, 0.09633645, 0.09633645, 0.09401904,\n",
       "           0.09935617, 0.17194759, 0.09624643, 0.1171664 , 0.17834823,\n",
       "           0.13238473, 0.11835453, 0.12696661, 0.11094499, 0.13070783,\n",
       "           0.09633645, 0.1132265 , 0.22373032, 0.09633645, 0.09633645,\n",
       "           0.38356658, 0.09644839, 0.09633645, 0.12274785, 0.15834989,\n",
       "           0.13772267, 0.09633645, 0.09633645, 0.09633645, 0.09633645,\n",
       "           0.12274785, 0.09633645, 0.21641654, 0.13070783, 0.14055581,\n",
       "           0.15001496, 0.13070783, 0.09633645, 0.09916329, 0.09633645,\n",
       "           0.14193557, 0.09655922, 0.46971271, 0.09633645, 0.17312009,\n",
       "           0.13434685, 0.09633645, 0.09633645, 0.1649149 , 0.292538  ,\n",
       "           0.11301864, 0.12647958, 0.14487858, 0.12274785, 0.0966709 ,\n",
       "           0.11620846, 0.16820456, 0.17800307, 0.09633645, 0.13980561,\n",
       "           0.09633645, 0.09935617, 0.13070783, 0.12883149, 0.09633645,\n",
       "           0.09633645, 0.24180776, 0.52062857, 0.13070783, 0.19405166,\n",
       "           0.13480043, 0.16221504, 0.22971523, 0.5505469 , 0.16578118,\n",
       "           0.13142135, 0.10236166, 0.11920393, 0.12274785, 0.09633645,\n",
       "           0.09633645]),\n",
       "    array([0.07533278, 0.07206547, 0.12195728, 0.70820408, 0.0714344 ,\n",
       "           0.60414408, 0.13612859, 0.06498798, 0.09270767, 0.06531182,\n",
       "           0.48208497, 0.54310577, 0.09025429, 0.15078307, 0.07161674,\n",
       "           0.06531182, 0.08922186, 0.0714344 , 0.0714344 , 0.06331323,\n",
       "           0.09646336, 0.16207527, 0.0710825 , 0.08736841, 0.18054251,\n",
       "           0.09001403, 0.09425718, 0.09633641, 0.10396009, 0.09210446,\n",
       "           0.06563798, 0.09252405, 0.19683825, 0.0714344 , 0.08190741,\n",
       "           0.30867325, 0.0722787 , 0.07178878, 0.08492855, 0.12720894,\n",
       "           0.11047491, 0.06531182, 0.07496922, 0.07259337, 0.06542645,\n",
       "           0.09486025, 0.06563798, 0.15515701, 0.10095146, 0.1076827 ,\n",
       "           0.11890572, 0.1004687 , 0.0714344 , 0.06721192, 0.0714344 ,\n",
       "           0.103046  , 0.07986105, 0.53260734, 0.06531182, 0.1417441 ,\n",
       "           0.13278662, 0.06542645, 0.0714344 , 0.13107294, 0.31788671,\n",
       "           0.07732337, 0.1263107 , 0.11342351, 0.09270767, 0.0718389 ,\n",
       "           0.09633224, 0.13555701, 0.13396912, 0.07336211, 0.10871625,\n",
       "           0.06531182, 0.08559187, 0.10095146, 0.0933866 , 0.06531182,\n",
       "           0.0714344 , 0.1957818 , 0.56166896, 0.10484599, 0.13594995,\n",
       "           0.09428383, 0.14129939, 0.18546729, 0.57650651, 0.1433179 ,\n",
       "           0.09774758, 0.0794916 , 0.08756527, 0.093157  , 0.06531182,\n",
       "           0.06531182])],\n",
       "   'majority_test_pred': array([0., 0., 0., 0., 0., 0., 0., 0., 0., 0., 0., 0., 0., 0., 0., 0., 0.,\n",
       "          0., 0., 0., 0., 0., 0., 0., 0., 0., 0., 0., 0., 0., 0., 0., 0., 0.,\n",
       "          0., 0., 0., 0., 0., 0., 0., 0., 0., 0., 0., 0., 0., 0., 0., 1., 0.,\n",
       "          0., 0., 0., 0., 0., 0., 0., 0., 0., 0., 0., 0., 0., 0., 0., 0., 0.,\n",
       "          0., 0., 0., 0., 0., 1., 0., 0., 0., 0., 0., 0., 0., 0., 0., 0., 0.,\n",
       "          0.]),\n",
       "   'majority_test_auc': [0.549062049062049],\n",
       "   'majority_test_specificity': 0.987012987012987,\n",
       "   'majority_test_sensitivity': 0.1111111111111111,\n",
       "   'weighted_test_auc': 0.6277056277056277,\n",
       "   'weighted_test_specificity': 0.974025974025974,\n",
       "   'weighted_test_sensitivity': 0.1111111111111111,\n",
       "   'true': array([0, 0, 0, 0, 0, 0, 0, 0, 0, 0, 1, 1, 0, 0, 0, 0, 1, 0, 0, 0, 0, 0,\n",
       "          0, 0, 0, 0, 0, 0, 0, 1, 0, 0, 0, 0, 0, 0, 1, 0, 0, 0, 0, 0, 0, 0,\n",
       "          0, 0, 0, 0, 0, 1, 0, 0, 0, 0, 0, 0, 0, 0, 0, 0, 0, 0, 0, 0, 0, 0,\n",
       "          0, 0, 0, 0, 0, 1, 0, 0, 0, 0, 0, 0, 1, 0, 0, 0, 1, 0, 0, 0],\n",
       "         dtype=int64),\n",
       "   'scaler': [MinMaxScaler(), MinMaxScaler(), MinMaxScaler()],\n",
       "   'model': [ExplainableBoostingClassifier(early_stopping_rounds=10,\n",
       "                                  early_stopping_tolerance=0.1,\n",
       "                                  feature_names=['hpv_total',\n",
       "                                                 'original_gldm_GrayLevelVariance-bed',\n",
       "                                                 'original_ngtdm_Strength-bed',\n",
       "                                                 'original_glszm_SmallAreaLowGrayLevelEmphasis-bed',\n",
       "                                                 'Clinical T Stage',\n",
       "                                                 'original_gldm_DependenceEntropy-bed',\n",
       "                                                 'original_gldm_GrayLevelVariance-bed '\n",
       "                                                 'x original_ngtdm_Strength-be...\n",
       "                                                 'original_gldm_GrayLevelVariance-bed',\n",
       "                                                 'original_ngtdm_Strength-bed x '\n",
       "                                                 'original_glszm_SmallAreaLowGrayLevelEmphasis-bed',\n",
       "                                                 'original_ngtdm_Strength-bed x '\n",
       "                                                 'original_gldm_DependenceEntropy-bed'],\n",
       "                                  feature_types=['continuous', 'continuous',\n",
       "                                                 'continuous', 'continuous',\n",
       "                                                 'continuous', 'continuous',\n",
       "                                                 'interaction', 'interaction',\n",
       "                                                 'interaction', 'interaction',\n",
       "                                                 'interaction'],\n",
       "                                  interactions=5, validation_size=0.2),\n",
       "    ExplainableBoostingClassifier(early_stopping_rounds=10,\n",
       "                                  early_stopping_tolerance=0.1,\n",
       "                                  feature_names=['hpv_total',\n",
       "                                                 'original_gldm_GrayLevelVariance-bed',\n",
       "                                                 'original_glcm_Correlation-bed',\n",
       "                                                 'original_ngtdm_Strength-bed',\n",
       "                                                 'original_glszm_SmallAreaLowGrayLevelEmphasis-bed',\n",
       "                                                 'original_glcm_Autocorrelation-bed',\n",
       "                                                 'original_gldm_DependenceEntropy-bed',\n",
       "                                                 'original_gldm...\n",
       "                                                 'x original_ngtdm_Strength-bed',\n",
       "                                                 'hpv_total x '\n",
       "                                                 'original_glcm_Correlation-bed',\n",
       "                                                 'original_glcm_Correlation-bed x '\n",
       "                                                 'original_glcm_Autocorrelation-bed'],\n",
       "                                  feature_types=['continuous', 'continuous',\n",
       "                                                 'continuous', 'continuous',\n",
       "                                                 'continuous', 'continuous',\n",
       "                                                 'continuous', 'interaction',\n",
       "                                                 'interaction', 'interaction',\n",
       "                                                 'interaction', 'interaction'],\n",
       "                                  interactions=5, validation_size=0.2),\n",
       "    ExplainableBoostingClassifier(early_stopping_rounds=10,\n",
       "                                  early_stopping_tolerance=0.1,\n",
       "                                  feature_names=['hpv_total',\n",
       "                                                 'original_gldm_GrayLevelVariance-bed',\n",
       "                                                 'gradient_firstorder_MeanAbsoluteDeviation-bed',\n",
       "                                                 'original_glcm_Correlation-bed',\n",
       "                                                 'original_ngtdm_Strength-bed',\n",
       "                                                 'original_glszm_SmallAreaLowGrayLevelEmphasis-bed',\n",
       "                                                 'original_firstorder_Kurtosis-bed',\n",
       "                                                 'orig...\n",
       "                                                 'original_gldm_GrayLevelVariance-bed '\n",
       "                                                 'x '\n",
       "                                                 'original_firstorder_Kurtosis-bed',\n",
       "                                                 'hpv_total x '\n",
       "                                                 'original_glcm_Correlation-bed'],\n",
       "                                  feature_types=['continuous', 'continuous',\n",
       "                                                 'continuous', 'continuous',\n",
       "                                                 'continuous', 'continuous',\n",
       "                                                 'continuous', 'continuous',\n",
       "                                                 'continuous', 'continuous',\n",
       "                                                 'interaction', 'interaction',\n",
       "                                                 'interaction', 'interaction',\n",
       "                                                 'interaction'],\n",
       "                                  interactions=5, validation_size=0.2)],\n",
       "   'class_weight_output': array([[0.33466294],\n",
       "          [0.33187076],\n",
       "          [0.33346629]]),\n",
       "   'weighted_class_pred_train': array([0.09649059, 0.09318448, 0.13177583, 0.69832203, 0.09297404,\n",
       "          0.59708114, 0.15732164, 0.0871328 , 0.1189926 , 0.08795406,\n",
       "          0.4337489 , 0.51734754, 0.09896178, 0.18179575, 0.09303484,\n",
       "          0.08795406, 0.11886806, 0.09297404, 0.09297404, 0.08593112,\n",
       "          0.10328366, 0.17967936, 0.09241304, 0.1160751 , 0.19167949,\n",
       "          0.12106837, 0.12173721, 0.12094143, 0.1177276 , 0.12043511,\n",
       "          0.08805504, 0.10783778, 0.19475978, 0.09297404, 0.09741204,\n",
       "          0.35336668, 0.0935183 , 0.09308384, 0.11272589, 0.16995674,\n",
       "          0.14827326, 0.08795406, 0.09509838, 0.09336052, 0.08799228,\n",
       "          0.12088277, 0.08806282, 0.19617599, 0.12805526, 0.13606752,\n",
       "          0.14549784, 0.12708307, 0.09297404, 0.09031442, 0.09297404,\n",
       "          0.13051881, 0.0929245 , 0.4763237 , 0.08795406, 0.18123852,\n",
       "          0.14050859, 0.08799228, 0.09297404, 0.15789262, 0.2991945 ,\n",
       "          0.10357536, 0.13480263, 0.13611991, 0.1189926 , 0.09249984,\n",
       "          0.12076982, 0.16861299, 0.16888443, 0.09360849, 0.13600819,\n",
       "          0.08795406, 0.1009298 , 0.12805526, 0.12202091, 0.08795406,\n",
       "          0.09297404, 0.24403774, 0.50384408, 0.13060071, 0.17103493,\n",
       "          0.1342957 , 0.16913927, 0.18911293, 0.60303297, 0.18090539,\n",
       "          0.12535019, 0.10533145, 0.11045194, 0.11914244, 0.08795406,\n",
       "          0.08795406]),\n",
       "   'weighted_class_pred': array([0.1405841 , 0.13871166, 0.1014527 , 0.12381177, 0.1189926 ,\n",
       "          0.11363526, 0.2507697 , 0.0991671 , 0.16469117, 0.12194934,\n",
       "          0.12321381, 0.13722565, 0.13750318, 0.09674357, 0.14168214,\n",
       "          0.09649059, 0.13074455, 0.18179624, 0.1134134 , 0.17644527,\n",
       "          0.21562364, 0.13730189, 0.25188752, 0.09539862, 0.12367744,\n",
       "          0.1085594 , 0.09460678, 0.13007639, 0.20134697, 0.1718272 ,\n",
       "          0.10837493, 0.23448404, 0.09318448, 0.09699347, 0.10752549,\n",
       "          0.12193233, 0.14752246, 0.11204787, 0.18878867, 0.10631706,\n",
       "          0.10223521, 0.09809886, 0.09308384, 0.09680635, 0.09297404,\n",
       "          0.09846811, 0.21536028, 0.23272507, 0.1750356 , 0.2940473 ,\n",
       "          0.08795406, 0.08795406, 0.17561768, 0.11229158, 0.09356493,\n",
       "          0.1131648 , 0.13732359, 0.14213003, 0.13857949, 0.09460678,\n",
       "          0.12708548, 0.11340939, 0.09309221, 0.20755584, 0.20409814,\n",
       "          0.09297404, 0.08641965, 0.12258995, 0.18149037, 0.15017103,\n",
       "          0.10908594, 0.14100876, 0.3221728 , 0.4611444 , 0.1189926 ,\n",
       "          0.23389908, 0.08795406, 0.13431341, 0.11686393, 0.10196144,\n",
       "          0.1214241 , 0.10534337, 0.10184345, 0.15392447, 0.16840953,\n",
       "          0.08795406]),\n",
       "   'weighted_train_auc': 0.9709302325581396,\n",
       "   'median_train_threshold': 0.2925379961599201,\n",
       "   'weighted_test_pred_final': [0,\n",
       "    0,\n",
       "    0,\n",
       "    0,\n",
       "    0,\n",
       "    0,\n",
       "    0,\n",
       "    0,\n",
       "    0,\n",
       "    0,\n",
       "    0,\n",
       "    0,\n",
       "    0,\n",
       "    0,\n",
       "    0,\n",
       "    0,\n",
       "    0,\n",
       "    0,\n",
       "    0,\n",
       "    0,\n",
       "    0,\n",
       "    0,\n",
       "    0,\n",
       "    0,\n",
       "    0,\n",
       "    0,\n",
       "    0,\n",
       "    0,\n",
       "    0,\n",
       "    0,\n",
       "    0,\n",
       "    0,\n",
       "    0,\n",
       "    0,\n",
       "    0,\n",
       "    0,\n",
       "    0,\n",
       "    0,\n",
       "    0,\n",
       "    0,\n",
       "    0,\n",
       "    0,\n",
       "    0,\n",
       "    0,\n",
       "    0,\n",
       "    0,\n",
       "    0,\n",
       "    0,\n",
       "    0,\n",
       "    1,\n",
       "    0,\n",
       "    0,\n",
       "    0,\n",
       "    0,\n",
       "    0,\n",
       "    0,\n",
       "    0,\n",
       "    0,\n",
       "    0,\n",
       "    0,\n",
       "    0,\n",
       "    0,\n",
       "    0,\n",
       "    0,\n",
       "    0,\n",
       "    0,\n",
       "    0,\n",
       "    0,\n",
       "    0,\n",
       "    0,\n",
       "    0,\n",
       "    0,\n",
       "    1,\n",
       "    1,\n",
       "    0,\n",
       "    0,\n",
       "    0,\n",
       "    0,\n",
       "    0,\n",
       "    0,\n",
       "    0,\n",
       "    0,\n",
       "    0,\n",
       "    0,\n",
       "    0,\n",
       "    0]}}}"
      ]
     },
     "execution_count": 11,
     "metadata": {},
     "output_type": "execute_result"
    }
   ],
   "source": [
    "store_dic_final_all"
   ]
  }
 ],
 "metadata": {
  "kernelspec": {
   "display_name": "Python (Holman_Medical_Image)",
   "language": "python",
   "name": "holman_medical_image"
  },
  "language_info": {
   "codemirror_mode": {
    "name": "ipython",
    "version": 3
   },
   "file_extension": ".py",
   "mimetype": "text/x-python",
   "name": "python",
   "nbconvert_exporter": "python",
   "pygments_lexer": "ipython3",
   "version": "3.7.9"
  }
 },
 "nbformat": 4,
 "nbformat_minor": 4
}
